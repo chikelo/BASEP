{
 "cells": [
  {
   "cell_type": "markdown",
   "metadata": {},
   "source": [
    "## First an index:"
   ]
  },
  {
   "cell_type": "code",
   "execution_count": 3,
   "metadata": {},
   "outputs": [],
   "source": [
    "import os\n",
    "from glob import glob\n",
    "import pandas as pd\n",
    "import matplotlib as mpl\n",
    "import matplotlib.pyplot as plt\n",
    "import numpy as np\n",
    "import support as sp\n",
    "import pims as pm\n",
    "from tqdm.auto import tqdm\n",
    "from IPython.display import HTML\n",
    "import pint\n",
    "idx = pd.IndexSlice\n",
    "\n",
    "tqdm.pandas()\n",
    "\n",
    "%matplotlib inline\n",
    "\n",
    "%reload_ext autoreload\n",
    "%autoreload 2"
   ]
  },
  {
   "cell_type": "code",
   "execution_count": 4,
   "metadata": {},
   "outputs": [],
   "source": [
    "# From https://stackoverflow.com/questions/2537868/sans-serif-math-with-latex-in-matplotlib\n",
    "plt.rc('text', usetex=True)\n",
    "plt.rc('font', family='serif')\n",
    "mpl.rcParams['text.latex.preamble'] = [\n",
    "       #r'\\usepackage{sansmath}',  # load up the sansmath so that math -> helvet\n",
    "       #r'\\sansmath'               # <- tricky! -- gotta actually tell tex to use!\n",
    "] \n",
    "\n",
    "mpl.rcParams.update({'figure.dpi': 200})\n",
    "\n",
    "mpl.rcParams.update({'font.size': 10})\n",
    "\n",
    "ureg = pint.UnitRegistry()\n",
    "column = 8.68*ureg.cm\n",
    "two_columns = 18*ureg.cm"
   ]
  },
  {
   "cell_type": "code",
   "execution_count": 5,
   "metadata": {},
   "outputs": [],
   "source": [
    "directory = \"C:/Users/aortiza/Desktop/Tracking_20190617/\""
   ]
  },
  {
   "cell_type": "code",
   "execution_count": 6,
   "metadata": {},
   "outputs": [
    {
     "data": {
      "text/html": [
       "<div>\n",
       "<style scoped>\n",
       "    .dataframe tbody tr th:only-of-type {\n",
       "        vertical-align: middle;\n",
       "    }\n",
       "\n",
       "    .dataframe tbody tr th {\n",
       "        vertical-align: top;\n",
       "    }\n",
       "\n",
       "    .dataframe thead th {\n",
       "        text-align: right;\n",
       "    }\n",
       "</style>\n",
       "<table border=\"1\" class=\"dataframe\">\n",
       "  <thead>\n",
       "    <tr style=\"text-align: right;\">\n",
       "      <th></th>\n",
       "      <th>sigma</th>\n",
       "      <th>N particles</th>\n",
       "      <th>omega</th>\n",
       "      <th>radius</th>\n",
       "      <th>File Name</th>\n",
       "    </tr>\n",
       "  </thead>\n",
       "  <tbody>\n",
       "    <tr>\n",
       "      <th>0</th>\n",
       "      <td>0.98</td>\n",
       "      <td>1.0</td>\n",
       "      <td>0.72</td>\n",
       "      <td>17.43</td>\n",
       "      <td>Test30_20190617</td>\n",
       "    </tr>\n",
       "    <tr>\n",
       "      <th>1</th>\n",
       "      <td>0.98</td>\n",
       "      <td>3.0</td>\n",
       "      <td>0.72</td>\n",
       "      <td>17.43</td>\n",
       "      <td>Test29_20190617</td>\n",
       "    </tr>\n",
       "    <tr>\n",
       "      <th>2</th>\n",
       "      <td>0.98</td>\n",
       "      <td>6.0</td>\n",
       "      <td>0.72</td>\n",
       "      <td>17.43</td>\n",
       "      <td>Test28_20190617</td>\n",
       "    </tr>\n",
       "    <tr>\n",
       "      <th>3</th>\n",
       "      <td>0.98</td>\n",
       "      <td>9.0</td>\n",
       "      <td>0.72</td>\n",
       "      <td>17.43</td>\n",
       "      <td>Test27_20190617</td>\n",
       "    </tr>\n",
       "    <tr>\n",
       "      <th>4</th>\n",
       "      <td>0.98</td>\n",
       "      <td>11.0</td>\n",
       "      <td>0.72</td>\n",
       "      <td>17.43</td>\n",
       "      <td>Test26_20190617</td>\n",
       "    </tr>\n",
       "  </tbody>\n",
       "</table>\n",
       "</div>"
      ],
      "text/plain": [
       "   sigma  N particles  omega  radius        File Name\n",
       "0   0.98          1.0   0.72   17.43  Test30_20190617\n",
       "1   0.98          3.0   0.72   17.43  Test29_20190617\n",
       "2   0.98          6.0   0.72   17.43  Test28_20190617\n",
       "3   0.98          9.0   0.72   17.43  Test27_20190617\n",
       "4   0.98         11.0   0.72   17.43  Test26_20190617"
      ]
     },
     "execution_count": 6,
     "metadata": {},
     "output_type": "execute_result"
    }
   ],
   "source": [
    "index = pd.read_csv(os.path.join(directory, \"index.dat\"), sep = \"\\t\", index_col = [0])\n",
    "index.head()"
   ]
  },
  {
   "cell_type": "code",
   "execution_count": 7,
   "metadata": {},
   "outputs": [],
   "source": [
    "def find_file(sample, directory):\n",
    "    for filename in glob(os.path.join(directory+'/*')):\n",
    "        if sample[\"File Name\"][:8] in os.path.split(filename)[1]:\n",
    "            if \".dat\" in filename:\n",
    "                return filename"
   ]
  },
  {
   "cell_type": "code",
   "execution_count": 8,
   "metadata": {},
   "outputs": [],
   "source": [
    "index[\"timestamp_file\"] = [\n",
    "    os.path.split(find_file(sample,os.path.join(directory,\"Timestamps\")))[-1] \n",
    "    for i,sample in index.iterrows()]"
   ]
  },
  {
   "cell_type": "code",
   "execution_count": 9,
   "metadata": {},
   "outputs": [],
   "source": [
    "def read_trj(experiment):\n",
    "    return pd.read_csv(os.path.join(directory,\"Tracking_\"+experiment[\"File Name\"]+\".dat\"),\n",
    "                  sep = \"\\t\",usecols = [\"x\",\"y\",\"frame\",\"particle\"], index_col = [\"frame\",\"particle\"])\n",
    "    "
   ]
  },
  {
   "cell_type": "code",
   "execution_count": 10,
   "metadata": {},
   "outputs": [],
   "source": [
    "def assign_timestamps(trj, experiment):\n",
    "    \n",
    "    timestamp = pd.read_csv(os.path.join(directory,os.path.join(\"Timestamps\",experiment[\"timestamp_file\"])),\n",
    "                  sep = \"\\t\", names = [\"time\"])\n",
    "    \n",
    "    trj[\"time\"] = timestamp.loc[trj.index.get_level_values(\"frame\").values].values\n",
    "    \n",
    "    return trj"
   ]
  },
  {
   "cell_type": "code",
   "execution_count": 11,
   "metadata": {},
   "outputs": [],
   "source": [
    "def recenter(trj):\n",
    "    center = sp.get_center(trj)\n",
    "    trj.x = trj.x-center[0]\n",
    "    trj.y = trj.y-center[1]\n",
    "    \n",
    "    return trj\n",
    "def rescale(trj,scale):\n",
    "    trj.x = trj.x*scale\n",
    "    trj.y = trj.y*scale\n",
    "    return trj"
   ]
  },
  {
   "cell_type": "code",
   "execution_count": 12,
   "metadata": {},
   "outputs": [],
   "source": [
    "def polar_coord(trj):\n",
    "    trj[\"theta\"] = np.arctan2(trj.y,trj.x)\n",
    "    trj[\"r\"] = np.sqrt(trj.x**2+trj.y**2)\n",
    "    return trj\n",
    "\n",
    "def unwrap_angle(series):\n",
    "    out = series.copy(deep=True)\n",
    "    out[:] = np.unwrap(series)\n",
    "    return out\n",
    "\n",
    "def unwrap_theta(trj):\n",
    "    trj[\"theta\"] = trj.theta.groupby(\"particle\").apply(unwrap_angle)\n",
    "    return trj"
   ]
  },
  {
   "cell_type": "code",
   "execution_count": 13,
   "metadata": {},
   "outputs": [],
   "source": [
    "def calculate_velocities(trj):\n",
    "    vel = trj.groupby(\"particle\").diff()\n",
    "    trj[\"omega\"] = vel.theta/vel.time\n",
    "    trj[\"vel_theta\"] = trj.r*vel.theta/vel.time\n",
    "    return trj"
   ]
  },
  {
   "cell_type": "code",
   "execution_count": 14,
   "metadata": {},
   "outputs": [],
   "source": [
    "experiment = index.loc[3]"
   ]
  },
  {
   "cell_type": "code",
   "execution_count": 15,
   "metadata": {},
   "outputs": [
    {
     "data": {
      "text/plain": [
       "sigma                                       0.98\n",
       "N particles                                    9\n",
       "omega                                       0.72\n",
       "radius                                     17.43\n",
       "File Name                        Test27_20190617\n",
       "timestamp_file    Test27_2019_06_17_16_43_11.dat\n",
       "Name: 3, dtype: object"
      ]
     },
     "execution_count": 15,
     "metadata": {},
     "output_type": "execute_result"
    }
   ],
   "source": [
    "experiment"
   ]
  },
  {
   "cell_type": "code",
   "execution_count": 16,
   "metadata": {},
   "outputs": [],
   "source": [
    "def get_exp_velocity(experiment):\n",
    "    trj = read_trj(experiment)\n",
    "    trj = assign_timestamps(trj,experiment)\n",
    "    trj = recenter(trj)\n",
    "    trj = rescale(trj,0.1805)\n",
    "    trj = polar_coord(trj)\n",
    "    trj = unwrap_theta(trj)\n",
    "    trj = calculate_velocities(trj)\n",
    "    return trj.filter([\"r\",\"omega\",\"vel_theta\"]).mean()"
   ]
  },
  {
   "cell_type": "code",
   "execution_count": null,
   "metadata": {},
   "outputs": [
    {
     "data": {
      "application/vnd.jupyter.widget-view+json": {
       "model_id": "b0d46a6240184aa69ecf7c9fc298d175",
       "version_major": 2,
       "version_minor": 0
      },
      "text/plain": [
       "HBox(children=(IntProgress(value=0, max=42), HTML(value='')))"
      ]
     },
     "metadata": {},
     "output_type": "display_data"
    }
   ],
   "source": [
    "omegas = index.loc[:].progress_apply(get_exp_velocity, axis=1)"
   ]
  },
  {
   "cell_type": "code",
   "execution_count": null,
   "metadata": {},
   "outputs": [],
   "source": [
    "omegas.head()"
   ]
  },
  {
   "cell_type": "code",
   "execution_count": null,
   "metadata": {},
   "outputs": [],
   "source": [
    "index[\"vel_theta\"] = omegas.vel_theta\n",
    "index[\"omega_part\"] = omegas.omega"
   ]
  },
  {
   "cell_type": "code",
   "execution_count": null,
   "metadata": {},
   "outputs": [],
   "source": [
    "index[\"vel_drive\"] = index.omega*index.radius\n",
    "index[\"density\"] = index[\"N particles\"] * 4 / (2*np.pi*index.radius)"
   ]
  },
  {
   "cell_type": "code",
   "execution_count": null,
   "metadata": {},
   "outputs": [],
   "source": [
    "index[\"vel_theta_omega\"] = -(index.omega_part-index.omega)*index.radius\n",
    "index[\"vel_theta\"] = -(index.vel_theta-index.vel_drive)\n",
    "\n",
    "index[\"current\"] = index.vel_theta*index.density"
   ]
  },
  {
   "cell_type": "code",
   "execution_count": null,
   "metadata": {},
   "outputs": [],
   "source": [
    "single_particle_current = index.groupby(\"N particles\").mean().current[1]\n",
    "single_particle_current"
   ]
  },
  {
   "cell_type": "code",
   "execution_count": null,
   "metadata": {},
   "outputs": [],
   "source": [
    "fig, ax = plt.subplots(1,1,figsize=(column).to(ureg.inch).magnitude*np.array([1,.75]))\n",
    "\n",
    "for sgm, curr in index.groupby([\"sigma\"]):\n",
    "    curr_dens = curr.groupby(\"density\").mean()\n",
    "    plt.plot(np.insert(curr_dens.index.values,0,0),\n",
    "             np.insert(curr_dens.current.values,0,0),\"-s\", label=sgm)\n",
    "    \n",
    "plt.legend(title = r\"$\\frac{\\sigma}{\\lambda}$\",bbox_to_anchor = (1,1));"
   ]
  },
  {
   "cell_type": "code",
   "execution_count": null,
   "metadata": {},
   "outputs": [],
   "source": []
  }
 ],
 "metadata": {
  "kernelspec": {
   "display_name": "Python 3",
   "language": "python",
   "name": "python3"
  },
  "language_info": {
   "codemirror_mode": {
    "name": "ipython",
    "version": 3
   },
   "file_extension": ".py",
   "mimetype": "text/x-python",
   "name": "python",
   "nbconvert_exporter": "python",
   "pygments_lexer": "ipython3",
   "version": "3.7.3"
  }
 },
 "nbformat": 4,
 "nbformat_minor": 2
}
