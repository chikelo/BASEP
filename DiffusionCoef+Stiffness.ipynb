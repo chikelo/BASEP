{
 "cells": [
  {
   "cell_type": "markdown",
   "metadata": {},
   "source": [
    "# Obtainment of D and K\n",
    "\n",
    "Extract values of diffusion coefficient and trap stiffness in the media for BASEP experiments.\n",
    "The final objective is to determine the optical tweezer stiffness and the potential landscape value in $k_BT$ units."
   ]
  },
  {
   "cell_type": "code",
   "execution_count": null,
   "metadata": {
    "scrolled": true
   },
   "outputs": [],
   "source": [
    "#%reset"
   ]
  },
  {
   "cell_type": "code",
   "execution_count": 1,
   "metadata": {},
   "outputs": [],
   "source": [
    "#Imports of libraries\n",
    "import numpy as np\n",
    "import matplotlib.pyplot as plt\n",
    "import matplotlib.collections as mpc\n",
    "import matplotlib as mpl\n",
    "import pint\n",
    "import scipy.optimize as spo\n",
    "import scipy.spatial as spa\n",
    "import pandas as pd\n",
    "from tqdm import tqdm_notebook\n",
    "\n",
    "ureg = pint.UnitRegistry()\n",
    "import trackpy as tp\n",
    "\n",
    "idx = pd.IndexSlice\n",
    "%matplotlib inline"
   ]
  },
  {
   "cell_type": "code",
   "execution_count": 2,
   "metadata": {
    "scrolled": true
   },
   "outputs": [
    {
     "data": {
      "text/html": [
       "<div>\n",
       "<style scoped>\n",
       "    .dataframe tbody tr th:only-of-type {\n",
       "        vertical-align: middle;\n",
       "    }\n",
       "\n",
       "    .dataframe tbody tr th {\n",
       "        vertical-align: top;\n",
       "    }\n",
       "\n",
       "    .dataframe thead th {\n",
       "        text-align: right;\n",
       "    }\n",
       "</style>\n",
       "<table border=\"1\" class=\"dataframe\">\n",
       "  <thead>\n",
       "    <tr style=\"text-align: right;\">\n",
       "      <th></th>\n",
       "      <th></th>\n",
       "      <th>x</th>\n",
       "      <th>y</th>\n",
       "      <th>x0</th>\n",
       "      <th>y0</th>\n",
       "      <th>r</th>\n",
       "      <th>theta</th>\n",
       "      <th>time</th>\n",
       "      <th>theta_prime</th>\n",
       "      <th>theta_dot_prime</th>\n",
       "    </tr>\n",
       "    <tr>\n",
       "      <th>frame</th>\n",
       "      <th>particle</th>\n",
       "      <th></th>\n",
       "      <th></th>\n",
       "      <th></th>\n",
       "      <th></th>\n",
       "      <th></th>\n",
       "      <th></th>\n",
       "      <th></th>\n",
       "      <th></th>\n",
       "      <th></th>\n",
       "    </tr>\n",
       "  </thead>\n",
       "  <tbody>\n",
       "    <tr>\n",
       "      <th>0</th>\n",
       "      <th>0</th>\n",
       "      <td>62.592651</td>\n",
       "      <td>26.606984</td>\n",
       "      <td>0.119166</td>\n",
       "      <td>-0.263488</td>\n",
       "      <td>0.289182</td>\n",
       "      <td>-1.146062</td>\n",
       "      <td>0.000000</td>\n",
       "      <td>5.137124</td>\n",
       "      <td>NaN</td>\n",
       "    </tr>\n",
       "    <tr>\n",
       "      <th>1</th>\n",
       "      <th>0</th>\n",
       "      <td>62.627187</td>\n",
       "      <td>26.609574</td>\n",
       "      <td>0.310502</td>\n",
       "      <td>-0.249138</td>\n",
       "      <td>0.398097</td>\n",
       "      <td>-0.676186</td>\n",
       "      <td>0.006001</td>\n",
       "      <td>5.606999</td>\n",
       "      <td>78.305855</td>\n",
       "    </tr>\n",
       "    <tr>\n",
       "      <th>2</th>\n",
       "      <th>0</th>\n",
       "      <td>62.566806</td>\n",
       "      <td>26.667813</td>\n",
       "      <td>-0.024018</td>\n",
       "      <td>0.073516</td>\n",
       "      <td>0.077340</td>\n",
       "      <td>1.886571</td>\n",
       "      <td>0.013000</td>\n",
       "      <td>1.886571</td>\n",
       "      <td>366.109666</td>\n",
       "    </tr>\n",
       "    <tr>\n",
       "      <th>3</th>\n",
       "      <th>0</th>\n",
       "      <td>62.639070</td>\n",
       "      <td>26.710965</td>\n",
       "      <td>0.376334</td>\n",
       "      <td>0.312585</td>\n",
       "      <td>0.489221</td>\n",
       "      <td>0.693126</td>\n",
       "      <td>0.020000</td>\n",
       "      <td>0.693126</td>\n",
       "      <td>-170.504440</td>\n",
       "    </tr>\n",
       "    <tr>\n",
       "      <th>4</th>\n",
       "      <th>0</th>\n",
       "      <td>62.600564</td>\n",
       "      <td>26.709846</td>\n",
       "      <td>0.163004</td>\n",
       "      <td>0.306385</td>\n",
       "      <td>0.347048</td>\n",
       "      <td>1.081861</td>\n",
       "      <td>0.026001</td>\n",
       "      <td>1.081861</td>\n",
       "      <td>64.783504</td>\n",
       "    </tr>\n",
       "  </tbody>\n",
       "</table>\n",
       "</div>"
      ],
      "text/plain": [
       "                        x          y        x0        y0         r     theta  \\\n",
       "frame particle                                                                 \n",
       "0     0         62.592651  26.606984  0.119166 -0.263488  0.289182 -1.146062   \n",
       "1     0         62.627187  26.609574  0.310502 -0.249138  0.398097 -0.676186   \n",
       "2     0         62.566806  26.667813 -0.024018  0.073516  0.077340  1.886571   \n",
       "3     0         62.639070  26.710965  0.376334  0.312585  0.489221  0.693126   \n",
       "4     0         62.600564  26.709846  0.163004  0.306385  0.347048  1.081861   \n",
       "\n",
       "                    time  theta_prime  theta_dot_prime  \n",
       "frame particle                                          \n",
       "0     0         0.000000     5.137124              NaN  \n",
       "1     0         0.006001     5.606999        78.305855  \n",
       "2     0         0.013000     1.886571       366.109666  \n",
       "3     0         0.020000     0.693126      -170.504440  \n",
       "4     0         0.026001     1.081861        64.783504  "
      ]
     },
     "execution_count": 2,
     "metadata": {},
     "output_type": "execute_result"
    }
   ],
   "source": [
    "#Loading the tracking matrix from dat file \n",
    "filePath = \"Coordinates_Test5_20190611.dat\" \n",
    "trj = pd.read_csv(filePath ,sep = \"\\t\", index_col=[0,1])\n",
    "trj.x = trj.x*0.1805\n",
    "trj.y = trj.y*0.1805\n",
    "trj.head()"
   ]
  },
  {
   "cell_type": "code",
   "execution_count": 3,
   "metadata": {},
   "outputs": [
    {
     "data": {
      "text/plain": [
       "(0, 0.06666666666666667)"
      ]
     },
     "execution_count": 3,
     "metadata": {},
     "output_type": "execute_result"
    },
    {
     "data": {
      "image/png": "[encoded data removed]",
      "text/plain": [
       "<Figure size 1080x216 with 1 Axes>"
      ]
     },
     "metadata": {
      "needs_background": "light"
     },
     "output_type": "display_data"
    }
   ],
   "source": [
    "fig, ax = plt.subplots(1,1,figsize = (15,3))\n",
    "\n",
    "useful_frames = np.arange(18000)\n",
    "plt.plot(trj.time.diff().values)\n",
    "plt.plot(trj.loc[idx[useful_frames,:],:].time.diff().values)\n",
    "\n",
    "plt.ylim(0,10/150)"
   ]
  },
  {
   "cell_type": "markdown",
   "metadata": {},
   "source": [
    "We look if we have lost frames during the video recording and select the range when the time between frames is almost constant."
   ]
  },
  {
   "cell_type": "markdown",
   "metadata": {},
   "source": [
    "## Trap stiffness"
   ]
  },
  {
   "cell_type": "markdown",
   "metadata": {},
   "source": [
    "The first consideration we make to obtain the optical trap stiffness is that we have a purely harmonic potential in equilibrium state. Making this assumption, we therefore know the particle position in an arbitrary potential is:\n",
    "\n",
    "$\\rho (x) = C exp[\\frac{-U(x)}{k_BT}]$\n",
    "\n",
    "To obtain the trap stiffness we make an position histogram of a particle trapped by the optical tweezer ring.\n",
    "By fitting a gaussian curve to the histogram, we approximate a parabola shaped curve."
   ]
  },
  {
   "cell_type": "code",
   "execution_count": 4,
   "metadata": {},
   "outputs": [
    {
     "data": {
      "image/png": "[encoded data removed]",
      "text/plain": [
       "<Figure size 720x360 with 2 Axes>"
      ]
     },
     "metadata": {
      "needs_background": "light"
     },
     "output_type": "display_data"
    }
   ],
   "source": [
    "#Histogram of x positions of particle 1\n",
    "fig, ax = plt.subplots(1,2, figsize=(10,5))\n",
    "ax[0].hist(trj.x, bins=50)\n",
    "ax[1].hist(trj.y, bins=50)\n",
    "\n",
    "#label the axes\n",
    "ax[0].set_xlabel('$x$');\n",
    "ax[1].set_xlabel('$y$');"
   ]
  },
  {
   "cell_type": "code",
   "execution_count": 5,
   "metadata": {},
   "outputs": [
    {
     "name": "stdout",
     "output_type": "stream",
     "text": [
      "mu =  0.002751080325470462 ; sigma =  0.4124239982936293 ; amplitude =  1502.6504674637488\n"
     ]
    },
    {
     "data": {
      "image/png": "[encoded data removed]",
      "text/plain": [
       "<Figure size 432x288 with 1 Axes>"
      ]
     },
     "metadata": {
      "needs_background": "light"
     },
     "output_type": "display_data"
    }
   ],
   "source": [
    "import matplotlib.mlab as mlab\n",
    "from scipy.optimize import curve_fit\n",
    "from pylab import *\n",
    "\n",
    "def gauss(x,mu,sigma,A):\n",
    "    return A*exp(-(x-mu)**2/2/sigma**2)\n",
    "\n",
    "y, bins, patches = plt.hist(trj.x0, 60)\n",
    "\n",
    "#Fitting gaussian in histogram\n",
    "bins=(bins[1:]+bins[:-1])/2 #To have the same number of bins in the fitting\n",
    "\n",
    "expected = (0,.5,1750) #gaussian epected params\n",
    "params, cov = curve_fit(gauss, bins, y, expected)\n",
    "sigma_func = sqrt(diag(cov))\n",
    "\n",
    "gauss_fit = gauss(bins, *params)\n",
    "plot(bins, gauss_fit, '--r', lw = 2) #color='red', lw=3, label='model')\n",
    "print('mu = ', params[0], '; sigma = ', params[1], '; amplitude = ', params[2])"
   ]
  },
  {
   "cell_type": "code",
   "execution_count": 6,
   "metadata": {},
   "outputs": [
    {
     "data": {
      "image/png": "[encoded data removed]",
      "text/plain": [
       "<Figure size 432x288 with 1 Axes>"
      ]
     },
     "metadata": {
      "needs_background": "light"
     },
     "output_type": "display_data"
    }
   ],
   "source": [
    "bins = bins[y>0]\n",
    "y = y[y>0]\n",
    "u_px = -np.log(y)\n",
    "\n",
    "\n",
    "def parabola(x,a,b):\n",
    "    return a*x**2+b\n",
    "\n",
    "fit = curve_fit(parabola, bins, u_px)\n",
    "\n",
    "plt.plot(bins, u_px)\n",
    "plt.plot(bins,parabola(bins,*fit[0]))\n",
    "plt.xlabel(r\"x [$\\mu{}$m]\");"
   ]
  },
  {
   "cell_type": "code",
   "execution_count": 20,
   "metadata": {},
   "outputs": [
    {
     "data": {
      "image/png": "[encoded data removed]",
      "text/plain": [
       "<Figure size 432x288 with 1 Axes>"
      ]
     },
     "metadata": {
      "needs_background": "light"
     },
     "output_type": "display_data"
    }
   ],
   "source": [
    "#exp_curve_fit = curve_fit(gauss, bins, u_px) \n",
    "params, cov = curve_fit(gauss, bins, u_px)\n",
    "\n",
    "plt.plot(bins, u_px)\n",
    "plt.plot(bins,gauss(bins,*params))\n",
    "plt.xlabel(r\"x [$\\mu{}$m]\");"
   ]
  },
  {
   "cell_type": "code",
   "execution_count": 22,
   "metadata": {},
   "outputs": [
    {
     "name": "stdout",
     "output_type": "stream",
     "text": [
      "mu =  0.014431943000939739 ; sigma =  -0.8595400358104557 ; A =  -7.670970612041237\n"
     ]
    }
   ],
   "source": [
    "print(\"mu = \", params[0], \"; sigma = \", params[1], \"; A = \", params[2])"
   ]
  },
  {
   "cell_type": "code",
   "execution_count": 24,
   "metadata": {},
   "outputs": [
    {
     "data": {
      "text/html": [
       "2.7620531710674907 1/micrometer<sup>2</sup>"
      ],
      "text/latex": [
       "$2.7620531710674907\\ \\frac{1}{\\mathrm{micrometer}^{2}}$"
      ],
      "text/plain": [
       "2.7620531710674907 <Unit('1 / micrometer ** 2')>"
      ]
     },
     "execution_count": 24,
     "metadata": {},
     "output_type": "execute_result"
    }
   ],
   "source": [
    "a = fit[0][0]/ureg.um**2\n",
    "a"
   ]
  },
  {
   "cell_type": "code",
   "execution_count": 25,
   "metadata": {},
   "outputs": [],
   "source": [
    "kb = 1.38064852e-23 * ureg.J/ureg.K"
   ]
  },
  {
   "cell_type": "code",
   "execution_count": 27,
   "metadata": {},
   "outputs": [
    {
     "data": {
      "text/html": [
       "2.2880547736773826×10<sup>-5</sup> piconewton/nanometer"
      ],
      "text/latex": [
       "$2.2880547736773826\\times 10^{-5}\\ \\frac{\\mathrm{piconewton}}{\\mathrm{nanometer}}$"
      ],
      "text/plain": [
       "2.2880547736773826e-05 <Unit('piconewton / nanometer')>"
      ]
     },
     "execution_count": 27,
     "metadata": {},
     "output_type": "execute_result"
    }
   ],
   "source": [
    "kbT = (kb*300*ureg.K).to(ureg.pN*ureg.nm)\n",
    "k = 2*a*kbT\n",
    "k = k.to(ureg.pN/ureg.nm)\n",
    "k"
   ]
  },
  {
   "cell_type": "markdown",
   "metadata": {},
   "source": [
    "Trap stiffness: $k = 2.288·10^{-5} pN/nm$"
   ]
  },
  {
   "cell_type": "markdown",
   "metadata": {},
   "source": [
    "## Diffusion coefficient"
   ]
  },
  {
   "cell_type": "code",
   "execution_count": 10,
   "metadata": {},
   "outputs": [],
   "source": [
    "def calculate_msd(series,lag_frame,col_name=None,framerate=1,particle_id = None):\n",
    "    \n",
    "    if col_name is None:\n",
    "        col_name = series.columns.values\n",
    "        \n",
    "    def msd_point(lag):\n",
    "        return np.nanmean((series[col_name].values[lag:]-series[col_name].values[:-lag])**2,axis=0)\n",
    "    \n",
    "    columns = [\"msd_\"+name for name in col_name]\n",
    "    \n",
    "    result =  pd.DataFrame(\n",
    "        data=[msd_point(lag) for lag in lag_frame],\n",
    "        index=lag_frame/framerate,columns=columns)\n",
    "    \n",
    "    result.index.name = \"dt\"\n",
    "\n",
    "    if particle_id is not None:\n",
    "        result[\"id\"] = particle_id\n",
    "        result[\"dt\"] = result.index.values\n",
    "        result = result.set_index([\"dt\",\"id\"])\n",
    "    \n",
    "    return result"
   ]
  },
  {
   "cell_type": "code",
   "execution_count": 11,
   "metadata": {},
   "outputs": [],
   "source": [
    "msd = calculate_msd(trj,np.arange(1,300),col_name = [\"x\",\"y\"], framerate = 150).sum(axis=1)"
   ]
  },
  {
   "cell_type": "code",
   "execution_count": 12,
   "metadata": {
    "scrolled": true
   },
   "outputs": [
    {
     "data": {
      "image/png": "[encoded data removed]",
      "text/plain": [
       "<Figure size 432x288 with 1 Axes>"
      ]
     },
     "metadata": {
      "needs_background": "light"
     },
     "output_type": "display_data"
    }
   ],
   "source": [
    "fig, ax = plt.subplots()\n",
    "ax.loglog(msd, 'k-')\n",
    "ax.set(ylabel=r'$\\langle \\Delta r^2 \\rangle$ [$\\mu$m$^2$]', xlabel='lag time $t$');"
   ]
  },
  {
   "cell_type": "code",
   "execution_count": 13,
   "metadata": {},
   "outputs": [
    {
     "data": {
      "text/plain": [
       "[<matplotlib.lines.Line2D at 0x2ada1caf5c0>]"
      ]
     },
     "execution_count": 13,
     "metadata": {},
     "output_type": "execute_result"
    },
    {
     "data": {
      "image/png": "[encoded data removed]",
      "text/plain": [
       "<Figure size 432x288 with 1 Axes>"
      ]
     },
     "metadata": {
      "needs_background": "light"
     },
     "output_type": "display_data"
    }
   ],
   "source": [
    "#plt.plot(trj.time,trj.x)\n",
    "plt.plot(trj.time,trj.y)"
   ]
  },
  {
   "cell_type": "code",
   "execution_count": 14,
   "metadata": {},
   "outputs": [
    {
     "name": "stdout",
     "output_type": "stream",
     "text": [
      "lin fit slope =  0.5254745365869152 lin fit ind term =  -2.7731922667554034\n"
     ]
    },
    {
     "data": {
      "image/png": "[encoded data removed]",
      "text/plain": [
       "<Figure size 432x288 with 1 Axes>"
      ]
     },
     "metadata": {
      "needs_background": "light"
     },
     "output_type": "display_data"
    }
   ],
   "source": [
    "data_range = msd[(msd.index >= 0.02) & (msd.index <= 0.1)].index\n",
    "#data_range = msd[msd.index <= 0.1].index.values\n",
    "x = np.array(msd[data_range].index)\n",
    "data = np.array(msd[data_range])\n",
    "\n",
    "\n",
    "logX = np.log(x)\n",
    "logData = np.log(data)\n",
    "\n",
    "m, c = np.polyfit(logX, logData, 1) # fit log(y) = m*log(x) + c\n",
    "pow_fit = np.exp(m*logX + c) # calculate the fitted values of y \n",
    "\n",
    "\n",
    "#lin_fit = np.polyfit(x, data, 1)\n",
    "\n",
    "#rect = np.polyval(lin_fit, x)\n",
    "\n",
    "plt.plot(msd)\n",
    "plt.plot(x, pow_fit)\n",
    "\n",
    "plt.xscale('log')\n",
    "plt.yscale('log')\n",
    "print(\"lin fit slope = \", m, \"lin fit ind term = \", c)\n",
    "#print(\"lin fit slope = \", lin_fit[0], \"lin fit ind term = \", lin_fit[1])"
   ]
  },
  {
   "cell_type": "markdown",
   "metadata": {},
   "source": [
    "The diffusion coefficient value is: $D = \\frac{e^{b}}{2}$, where b is the independent number of the fit.\n",
    "\n",
    "$D = 0.0313 \\mu m^2/s$. \n",
    "\n",
    "\n",
    "Hence, the friction coefficient is: $\\xi = k_BT/D = 31.92 k_BT=1.32·10^{-19} J·s/\\mu m^2$, where $k_B = 1.3806·10^{-23} J/K$ and $T = 300 K$. "
   ]
  },
  {
   "cell_type": "markdown",
   "metadata": {},
   "source": [
    "# Fourier Space Determination of k"
   ]
  },
  {
   "cell_type": "code",
   "execution_count": 15,
   "metadata": {},
   "outputs": [],
   "source": [
    "framerate = 150\n",
    "dt = 1/framerate"
   ]
  },
  {
   "cell_type": "code",
   "execution_count": 16,
   "metadata": {},
   "outputs": [],
   "source": [
    "def PSD(x,dt):\n",
    "    F = np.fft.fft(x)\n",
    "    N = len(x)\n",
    "    PSD = (dt/N) * (F*F.conj())\n",
    "    PSD = abs(PSD).astype(\"float64\")\n",
    "    f = np.linspace(0,framerate,N)\n",
    "    return np.array_split(f,2)[0], np.array_split(PSD,2)[0]"
   ]
  },
  {
   "cell_type": "code",
   "execution_count": 17,
   "metadata": {},
   "outputs": [],
   "source": [
    "def lorentzian(f,A,fc):\n",
    "    return A/(fc**2+f**2)"
   ]
  },
  {
   "cell_type": "code",
   "execution_count": 18,
   "metadata": {
    "scrolled": true
   },
   "outputs": [
    {
     "data": {
      "image/png": "[encoded data removed]",
      "text/plain": [
       "<Figure size 432x288 with 1 Axes>"
      ]
     },
     "metadata": {
      "needs_background": "light"
     },
     "output_type": "display_data"
    }
   ],
   "source": [
    "f, psd = PSD(trj.x0[1:],trj.time.diff()[1:])#dt)\n",
    "\n",
    "fit = curve_fit(lorentzian, f, psd)\n",
    "\n",
    "plt.loglog(f,psd)\n",
    "plt.loglog(f,lorentzian(f,*fit[0]))\n",
    "plt.xlabel(r\"f[Hz]\")\n",
    "plt.ylabel(r\"PSD [$\\mu{}$m$^2$ s]\");"
   ]
  },
  {
   "cell_type": "code",
   "execution_count": 19,
   "metadata": {},
   "outputs": [],
   "source": [
    "A = fit[0][0] * ureg.um**2 / ureg.s\n",
    "fc = fit[0][1] * ureg.Hz"
   ]
  },
  {
   "cell_type": "code",
   "execution_count": 20,
   "metadata": {},
   "outputs": [
    {
     "data": {
      "text/html": [
       "0.002263304012497405 piconewton second/micrometer"
      ],
      "text/latex": [
       "$0.002263304012497405\\ \\frac{\\mathrm{piconewton} \\cdot \\mathrm{second}}{\\mathrm{micrometer}}$"
      ],
      "text/plain": [
       "0.002263304012497405 <Unit('piconewton * second / micrometer')>"
      ]
     },
     "execution_count": 20,
     "metadata": {},
     "output_type": "execute_result"
    }
   ],
   "source": [
    "gm = kbT/2/np.pi**2/A\n",
    "gm.to(ureg.pN/(ureg.um/ureg.s))"
   ]
  },
  {
   "cell_type": "code",
   "execution_count": 21,
   "metadata": {},
   "outputs": [
    {
     "data": {
      "text/html": [
       "0.5464349976867888 second/micrometer<sup>2</sup>"
      ],
      "text/latex": [
       "$0.5464349976867888\\ \\frac{\\mathrm{second}}{\\mathrm{micrometer}^{2}}$"
      ],
      "text/plain": [
       "0.5464349976867888 <Unit('second / micrometer ** 2')>"
      ]
     },
     "execution_count": 21,
     "metadata": {},
     "output_type": "execute_result"
    }
   ],
   "source": [
    "gm_2 = 1/(2*np.pi**2*A)\n",
    "gm_2 #in kbT units"
   ]
  },
  {
   "cell_type": "code",
   "execution_count": 22,
   "metadata": {},
   "outputs": [
    {
     "data": {
      "text/html": [
       "1.8300438372968018 micrometer<sup>2</sup>/second"
      ],
      "text/latex": [
       "$1.8300438372968018\\ \\frac{\\mathrm{micrometer}^{2}}{\\mathrm{second}}$"
      ],
      "text/plain": [
       "1.8300438372968018 <Unit('micrometer ** 2 / second')>"
      ]
     },
     "execution_count": 22,
     "metadata": {},
     "output_type": "execute_result"
    }
   ],
   "source": [
    "D = kbT/gm\n",
    "D"
   ]
  },
  {
   "cell_type": "code",
   "execution_count": 23,
   "metadata": {},
   "outputs": [
    {
     "data": {
      "text/html": [
       "3.077070990990359×10<sup>-5</sup> piconewton/nanometer"
      ],
      "text/latex": [
       "$3.077070990990359\\times 10^{-5}\\ \\frac{\\mathrm{piconewton}}{\\mathrm{nanometer}}$"
      ],
      "text/plain": [
       "3.077070990990359e-05 <Unit('piconewton / nanometer')>"
      ]
     },
     "execution_count": 23,
     "metadata": {},
     "output_type": "execute_result"
    }
   ],
   "source": [
    "(fc*2*np.pi*gm).to(ureg.pN/ureg.nm) #trap stifness"
   ]
  },
  {
   "cell_type": "markdown",
   "metadata": {},
   "source": [
    "The diffusion coefficient value is: $D = 1.83 \\mu m^2/s$. \n",
    "\n",
    "\n",
    "Hence, the friction coefficient is: $\\xi = k_BT/D = 0.55 k_BT$\n",
    "\n",
    "And the trap stiffness: $k = 3.077·10^{-5} pN/nm$"
   ]
  },
  {
   "cell_type": "markdown",
   "metadata": {},
   "source": [
    "### How does this compare with expected value for a sphere in bulk? \n",
    "\n",
    "$\\xi = 6\\pi \\eta R$;  $R = 4 \\mu m$; $\\eta = 8.90·10^{-4} Pa·s$ (for water)"
   ]
  },
  {
   "cell_type": "code",
   "execution_count": 24,
   "metadata": {},
   "outputs": [
    {
     "data": {
      "text/html": [
       "0.033552209540338995 piconewton second/micrometer"
      ],
      "text/latex": [
       "$0.033552209540338995\\ \\frac{\\mathrm{piconewton} \\cdot \\mathrm{second}}{\\mathrm{micrometer}}$"
      ],
      "text/plain": [
       "0.033552209540338995 <Unit('piconewton * second / micrometer')>"
      ]
     },
     "execution_count": 24,
     "metadata": {},
     "output_type": "execute_result"
    }
   ],
   "source": [
    "R = 2*ureg.um\n",
    "eta = 8.9e-4 * ureg.Pa * ureg.s\n",
    "gm_ideal  = 6*np.pi*R*eta\n",
    "gm_ideal.to(ureg.pN/(ureg.um/ureg.s))"
   ]
  },
  {
   "cell_type": "code",
   "execution_count": 25,
   "metadata": {},
   "outputs": [
    {
     "data": {
      "text/html": [
       "3.3552209540338983×10<sup>-20</sup> joule second/micrometer<sup>2</sup>"
      ],
      "text/latex": [
       "$3.3552209540338983\\times 10^{-20}\\ \\frac{\\mathrm{joule} \\cdot \\mathrm{second}}{\\mathrm{micrometer}^{2}}$"
      ],
      "text/plain": [
       "3.3552209540338983e-20 <Unit('joule * second / micrometer ** 2')>"
      ]
     },
     "execution_count": 25,
     "metadata": {},
     "output_type": "execute_result"
    }
   ],
   "source": [
    "gm_ideal.to(ureg.J/(ureg.um**2/ureg.s))"
   ]
  },
  {
   "cell_type": "markdown",
   "metadata": {},
   "source": [
    "The friction coefficient is: $\\xi = 3.36·10^{-20} J·s/\\mu m^2 = 8.1 k_BT$\n",
    " \n",
    "Hence, the diffusion coefficient value is: $D = 0.123 \\mu m^2/s$."
   ]
  },
  {
   "cell_type": "markdown",
   "metadata": {},
   "source": [
    "### How does this compare with a particle which is not trapped?"
   ]
  },
  {
   "cell_type": "code",
   "execution_count": 26,
   "metadata": {
    "scrolled": true
   },
   "outputs": [
    {
     "data": {
      "text/html": [
       "<div>\n",
       "<style scoped>\n",
       "    .dataframe tbody tr th:only-of-type {\n",
       "        vertical-align: middle;\n",
       "    }\n",
       "\n",
       "    .dataframe tbody tr th {\n",
       "        vertical-align: top;\n",
       "    }\n",
       "\n",
       "    .dataframe thead th {\n",
       "        text-align: right;\n",
       "    }\n",
       "</style>\n",
       "<table border=\"1\" class=\"dataframe\">\n",
       "  <thead>\n",
       "    <tr style=\"text-align: right;\">\n",
       "      <th></th>\n",
       "      <th>y</th>\n",
       "      <th>x</th>\n",
       "      <th>mass</th>\n",
       "      <th>size</th>\n",
       "      <th>ecc</th>\n",
       "      <th>signal</th>\n",
       "      <th>raw_mass</th>\n",
       "      <th>ep</th>\n",
       "      <th>frame</th>\n",
       "      <th>particle</th>\n",
       "    </tr>\n",
       "  </thead>\n",
       "  <tbody>\n",
       "    <tr>\n",
       "      <th>0</th>\n",
       "      <td>49.370765</td>\n",
       "      <td>63.735486</td>\n",
       "      <td>6811.277987</td>\n",
       "      <td>3.175158</td>\n",
       "      <td>0.007498</td>\n",
       "      <td>152.117349</td>\n",
       "      <td>27180.0</td>\n",
       "      <td>-0.072248</td>\n",
       "      <td>0</td>\n",
       "      <td>0</td>\n",
       "    </tr>\n",
       "    <tr>\n",
       "      <th>1</th>\n",
       "      <td>49.266848</td>\n",
       "      <td>63.804175</td>\n",
       "      <td>6851.430946</td>\n",
       "      <td>3.173788</td>\n",
       "      <td>0.021889</td>\n",
       "      <td>152.413408</td>\n",
       "      <td>27202.0</td>\n",
       "      <td>-0.076936</td>\n",
       "      <td>1</td>\n",
       "      <td>0</td>\n",
       "    </tr>\n",
       "    <tr>\n",
       "      <th>2</th>\n",
       "      <td>49.012128</td>\n",
       "      <td>63.241328</td>\n",
       "      <td>6766.053683</td>\n",
       "      <td>3.189732</td>\n",
       "      <td>0.006483</td>\n",
       "      <td>152.039451</td>\n",
       "      <td>27068.0</td>\n",
       "      <td>-0.062348</td>\n",
       "      <td>2</td>\n",
       "      <td>0</td>\n",
       "    </tr>\n",
       "    <tr>\n",
       "      <th>3</th>\n",
       "      <td>48.966668</td>\n",
       "      <td>63.276446</td>\n",
       "      <td>6797.868604</td>\n",
       "      <td>3.173609</td>\n",
       "      <td>0.027636</td>\n",
       "      <td>152.512449</td>\n",
       "      <td>27059.0</td>\n",
       "      <td>-0.054684</td>\n",
       "      <td>3</td>\n",
       "      <td>0</td>\n",
       "    </tr>\n",
       "    <tr>\n",
       "      <th>4</th>\n",
       "      <td>48.968935</td>\n",
       "      <td>63.274050</td>\n",
       "      <td>6838.793625</td>\n",
       "      <td>3.175963</td>\n",
       "      <td>0.032508</td>\n",
       "      <td>153.877382</td>\n",
       "      <td>27192.0</td>\n",
       "      <td>-0.054604</td>\n",
       "      <td>4</td>\n",
       "      <td>0</td>\n",
       "    </tr>\n",
       "  </tbody>\n",
       "</table>\n",
       "</div>"
      ],
      "text/plain": [
       "           y          x         mass      size       ecc      signal  \\\n",
       "0  49.370765  63.735486  6811.277987  3.175158  0.007498  152.117349   \n",
       "1  49.266848  63.804175  6851.430946  3.173788  0.021889  152.413408   \n",
       "2  49.012128  63.241328  6766.053683  3.189732  0.006483  152.039451   \n",
       "3  48.966668  63.276446  6797.868604  3.173609  0.027636  152.512449   \n",
       "4  48.968935  63.274050  6838.793625  3.175963  0.032508  153.877382   \n",
       "\n",
       "   raw_mass        ep  frame  particle  \n",
       "0   27180.0 -0.072248      0         0  \n",
       "1   27202.0 -0.076936      1         0  \n",
       "2   27068.0 -0.062348      2         0  \n",
       "3   27059.0 -0.054684      3         0  \n",
       "4   27192.0 -0.054604      4         0  "
      ]
     },
     "execution_count": 26,
     "metadata": {},
     "output_type": "execute_result"
    }
   ],
   "source": [
    "#Loading the tracking matrix from dat file \n",
    "filePath = \"Tracking_DiffusionTest.dat\" \n",
    "trj_d = pd.read_csv(filePath ,sep = \"\\t\", index_col=[0])\n",
    "trj_d.x = trj_d.x*0.1805\n",
    "trj_d.y = trj_d.y*0.1805\n",
    "trj_d.head()"
   ]
  },
  {
   "cell_type": "code",
   "execution_count": 27,
   "metadata": {},
   "outputs": [
    {
     "data": {
      "text/html": [
       "<div>\n",
       "<style scoped>\n",
       "    .dataframe tbody tr th:only-of-type {\n",
       "        vertical-align: middle;\n",
       "    }\n",
       "\n",
       "    .dataframe tbody tr th {\n",
       "        vertical-align: top;\n",
       "    }\n",
       "\n",
       "    .dataframe thead th {\n",
       "        text-align: right;\n",
       "    }\n",
       "</style>\n",
       "<table border=\"1\" class=\"dataframe\">\n",
       "  <thead>\n",
       "    <tr style=\"text-align: right;\">\n",
       "      <th></th>\n",
       "      <th>time</th>\n",
       "      <th>datetime</th>\n",
       "      <th>ellapsed_time</th>\n",
       "    </tr>\n",
       "  </thead>\n",
       "  <tbody>\n",
       "    <tr>\n",
       "      <th>0</th>\n",
       "      <td>3.643277e+09</td>\n",
       "      <td>2019-06-13 15:31:01.361999989</td>\n",
       "      <td>00:00:00</td>\n",
       "    </tr>\n",
       "    <tr>\n",
       "      <th>1</th>\n",
       "      <td>3.643277e+09</td>\n",
       "      <td>2019-06-13 15:31:01.372000217</td>\n",
       "      <td>00:00:00.010000</td>\n",
       "    </tr>\n",
       "    <tr>\n",
       "      <th>2</th>\n",
       "      <td>3.643277e+09</td>\n",
       "      <td>2019-06-13 15:31:01.762000084</td>\n",
       "      <td>00:00:00.400000</td>\n",
       "    </tr>\n",
       "    <tr>\n",
       "      <th>3</th>\n",
       "      <td>3.643277e+09</td>\n",
       "      <td>2019-06-13 15:31:01.772000313</td>\n",
       "      <td>00:00:00.410000</td>\n",
       "    </tr>\n",
       "    <tr>\n",
       "      <th>4</th>\n",
       "      <td>3.643277e+09</td>\n",
       "      <td>2019-06-13 15:31:01.782000065</td>\n",
       "      <td>00:00:00.420000</td>\n",
       "    </tr>\n",
       "  </tbody>\n",
       "</table>\n",
       "</div>"
      ],
      "text/plain": [
       "           time                      datetime   ellapsed_time\n",
       "0  3.643277e+09 2019-06-13 15:31:01.361999989        00:00:00\n",
       "1  3.643277e+09 2019-06-13 15:31:01.372000217 00:00:00.010000\n",
       "2  3.643277e+09 2019-06-13 15:31:01.762000084 00:00:00.400000\n",
       "3  3.643277e+09 2019-06-13 15:31:01.772000313 00:00:00.410000\n",
       "4  3.643277e+09 2019-06-13 15:31:01.782000065 00:00:00.420000"
      ]
     },
     "execution_count": 27,
     "metadata": {},
     "output_type": "execute_result"
    }
   ],
   "source": [
    "#Loading the timestamps of the video to have the time of each position\n",
    "tmstmp_filePath = r\"C:\\Users\\Eric\\Desktop\\BASEP_tests\\DiffusionTest_NoLaser_2019_06_13_15_31_01.dat\"\n",
    "timestamp = pd.read_csv(tmstmp_filePath, sep=\"\\r\", header = None,names=[\"time\"])\n",
    "\n",
    "#Calculation of timestamps in nanoseconds\n",
    "timestamp[\"datetime\"] =  pd.to_datetime(timestamp.time+2*3600, unit=\"s\", origin=pd.Timestamp('1904-01-01'))\n",
    "timestamp[\"ellapsed_time\"] = (timestamp.datetime-timestamp.datetime[0])\n",
    "timestamp.head()"
   ]
  },
  {
   "cell_type": "code",
   "execution_count": 28,
   "metadata": {},
   "outputs": [
    {
     "data": {
      "text/html": [
       "<div>\n",
       "<style scoped>\n",
       "    .dataframe tbody tr th:only-of-type {\n",
       "        vertical-align: middle;\n",
       "    }\n",
       "\n",
       "    .dataframe tbody tr th {\n",
       "        vertical-align: top;\n",
       "    }\n",
       "\n",
       "    .dataframe thead th {\n",
       "        text-align: right;\n",
       "    }\n",
       "</style>\n",
       "<table border=\"1\" class=\"dataframe\">\n",
       "  <thead>\n",
       "    <tr style=\"text-align: right;\">\n",
       "      <th></th>\n",
       "      <th>x</th>\n",
       "      <th>y</th>\n",
       "      <th>frame</th>\n",
       "      <th>particle</th>\n",
       "      <th>time</th>\n",
       "    </tr>\n",
       "  </thead>\n",
       "  <tbody>\n",
       "    <tr>\n",
       "      <th>0</th>\n",
       "      <td>63.735486</td>\n",
       "      <td>49.370765</td>\n",
       "      <td>0</td>\n",
       "      <td>0</td>\n",
       "      <td>0.00</td>\n",
       "    </tr>\n",
       "    <tr>\n",
       "      <th>1</th>\n",
       "      <td>63.804175</td>\n",
       "      <td>49.266848</td>\n",
       "      <td>1</td>\n",
       "      <td>0</td>\n",
       "      <td>0.01</td>\n",
       "    </tr>\n",
       "    <tr>\n",
       "      <th>2</th>\n",
       "      <td>63.241328</td>\n",
       "      <td>49.012128</td>\n",
       "      <td>2</td>\n",
       "      <td>0</td>\n",
       "      <td>0.40</td>\n",
       "    </tr>\n",
       "    <tr>\n",
       "      <th>3</th>\n",
       "      <td>63.276446</td>\n",
       "      <td>48.966668</td>\n",
       "      <td>3</td>\n",
       "      <td>0</td>\n",
       "      <td>0.41</td>\n",
       "    </tr>\n",
       "    <tr>\n",
       "      <th>4</th>\n",
       "      <td>63.274050</td>\n",
       "      <td>48.968935</td>\n",
       "      <td>4</td>\n",
       "      <td>0</td>\n",
       "      <td>0.42</td>\n",
       "    </tr>\n",
       "  </tbody>\n",
       "</table>\n",
       "</div>"
      ],
      "text/plain": [
       "           x          y  frame  particle  time\n",
       "0  63.735486  49.370765      0         0  0.00\n",
       "1  63.804175  49.266848      1         0  0.01\n",
       "2  63.241328  49.012128      2         0  0.40\n",
       "3  63.276446  48.966668      3         0  0.41\n",
       "4  63.274050  48.968935      4         0  0.42"
      ]
     },
     "execution_count": 28,
     "metadata": {},
     "output_type": "execute_result"
    }
   ],
   "source": [
    "#Timestamps to seconds and adding to t DataFrame \n",
    "trj_d[\"time\"] = timestamp.ellapsed_time.dt.total_seconds()\n",
    "trj_d = trj_d.filter([\"x\", \"y\", \"frame\", \"particle\", \"time\"])\n",
    "trj_d.head()"
   ]
  },
  {
   "cell_type": "code",
   "execution_count": 29,
   "metadata": {
    "scrolled": true
   },
   "outputs": [
    {
     "data": {
      "image/png": "[encoded data removed]",
      "text/plain": [
       "<Figure size 1080x216 with 1 Axes>"
      ]
     },
     "metadata": {
      "needs_background": "light"
     },
     "output_type": "display_data"
    }
   ],
   "source": [
    "fig, ax = plt.subplots(1,1,figsize = (15,3))\n",
    "\n",
    "#useful_frames = np.arange(18000)\n",
    "plt.plot(trj_d.time.diff().values)\n",
    "plt.plot(trj_d.loc[idx[5:],:].time.diff().values)\n",
    "\n",
    "plt.ylim(0,10/150);"
   ]
  },
  {
   "cell_type": "code",
   "execution_count": 30,
   "metadata": {
    "scrolled": false
   },
   "outputs": [
    {
     "data": {
      "text/plain": [
       "[<matplotlib.lines.Line2D at 0x2ada1547080>]"
      ]
     },
     "execution_count": 30,
     "metadata": {},
     "output_type": "execute_result"
    },
    {
     "data": {
      "image/png": "[encoded data removed]",
      "text/plain": [
       "<Figure size 432x288 with 1 Axes>"
      ]
     },
     "metadata": {
      "needs_background": "light"
     },
     "output_type": "display_data"
    }
   ],
   "source": [
    "new_trj = trj_d.loc[idx[5:],:].reset_index()\n",
    "plt.plot(new_trj.time.diff().values)"
   ]
  },
  {
   "cell_type": "code",
   "execution_count": 31,
   "metadata": {},
   "outputs": [],
   "source": [
    "msd_tot = calculate_msd(new_trj,np.arange(1,30000,100), framerate = 100, col_name = [\"x\",\"y\"]).sum(axis=1)\n",
    "msd = calculate_msd(new_trj,np.arange(1,500,10), framerate = 100, col_name = [\"x\",\"y\"]).sum(axis=1)"
   ]
  },
  {
   "cell_type": "code",
   "execution_count": 32,
   "metadata": {
    "scrolled": true
   },
   "outputs": [
    {
     "data": {
      "text/html": [
       "<div>\n",
       "<style scoped>\n",
       "    .dataframe tbody tr th:only-of-type {\n",
       "        vertical-align: middle;\n",
       "    }\n",
       "\n",
       "    .dataframe tbody tr th {\n",
       "        vertical-align: top;\n",
       "    }\n",
       "\n",
       "    .dataframe thead th {\n",
       "        text-align: right;\n",
       "    }\n",
       "</style>\n",
       "<table border=\"1\" class=\"dataframe\">\n",
       "  <thead>\n",
       "    <tr style=\"text-align: right;\">\n",
       "      <th></th>\n",
       "      <th>index</th>\n",
       "      <th>x</th>\n",
       "      <th>y</th>\n",
       "      <th>frame</th>\n",
       "      <th>particle</th>\n",
       "      <th>time</th>\n",
       "    </tr>\n",
       "  </thead>\n",
       "  <tbody>\n",
       "    <tr>\n",
       "      <th>0</th>\n",
       "      <td>5</td>\n",
       "      <td>63.317525</td>\n",
       "      <td>49.020733</td>\n",
       "      <td>5</td>\n",
       "      <td>0</td>\n",
       "      <td>0.43</td>\n",
       "    </tr>\n",
       "    <tr>\n",
       "      <th>1</th>\n",
       "      <td>6</td>\n",
       "      <td>63.333390</td>\n",
       "      <td>49.044515</td>\n",
       "      <td>6</td>\n",
       "      <td>0</td>\n",
       "      <td>0.44</td>\n",
       "    </tr>\n",
       "    <tr>\n",
       "      <th>2</th>\n",
       "      <td>7</td>\n",
       "      <td>63.385486</td>\n",
       "      <td>49.027705</td>\n",
       "      <td>7</td>\n",
       "      <td>0</td>\n",
       "      <td>0.45</td>\n",
       "    </tr>\n",
       "    <tr>\n",
       "      <th>3</th>\n",
       "      <td>8</td>\n",
       "      <td>63.417723</td>\n",
       "      <td>49.103994</td>\n",
       "      <td>8</td>\n",
       "      <td>0</td>\n",
       "      <td>0.46</td>\n",
       "    </tr>\n",
       "    <tr>\n",
       "      <th>4</th>\n",
       "      <td>9</td>\n",
       "      <td>63.506490</td>\n",
       "      <td>49.076448</td>\n",
       "      <td>9</td>\n",
       "      <td>0</td>\n",
       "      <td>0.47</td>\n",
       "    </tr>\n",
       "  </tbody>\n",
       "</table>\n",
       "</div>"
      ],
      "text/plain": [
       "   index          x          y  frame  particle  time\n",
       "0      5  63.317525  49.020733      5         0  0.43\n",
       "1      6  63.333390  49.044515      6         0  0.44\n",
       "2      7  63.385486  49.027705      7         0  0.45\n",
       "3      8  63.417723  49.103994      8         0  0.46\n",
       "4      9  63.506490  49.076448      9         0  0.47"
      ]
     },
     "execution_count": 32,
     "metadata": {},
     "output_type": "execute_result"
    }
   ],
   "source": [
    "new_trj.head()"
   ]
  },
  {
   "cell_type": "code",
   "execution_count": 33,
   "metadata": {},
   "outputs": [
    {
     "data": {
      "text/plain": [
       "[<matplotlib.lines.Line2D at 0x2ada1d90ac8>]"
      ]
     },
     "execution_count": 33,
     "metadata": {},
     "output_type": "execute_result"
    },
    {
     "data": {
      "image/png": "[encoded data removed]",
      "text/plain": [
       "<Figure size 432x288 with 1 Axes>"
      ]
     },
     "metadata": {
      "needs_background": "light"
     },
     "output_type": "display_data"
    }
   ],
   "source": [
    "plt.plot(new_trj.time,new_trj.x)\n",
    "plt.plot(new_trj.time,new_trj.y)"
   ]
  },
  {
   "cell_type": "markdown",
   "metadata": {},
   "source": [
    "## Remove drift"
   ]
  },
  {
   "cell_type": "code",
   "execution_count": 34,
   "metadata": {},
   "outputs": [
    {
     "data": {
      "text/plain": [
       "index       1.000000\n",
       "x          -0.023718\n",
       "y           0.015368\n",
       "frame       1.000000\n",
       "particle    0.000000\n",
       "time        0.010000\n",
       "dtype: float64"
      ]
     },
     "execution_count": 34,
     "metadata": {},
     "output_type": "execute_result"
    }
   ],
   "source": [
    "v = new_trj.diff()\n",
    "v.x = v.x/v.time\n",
    "v.y = v.y/v.time\n",
    "\n",
    "v.mean()"
   ]
  },
  {
   "cell_type": "code",
   "execution_count": 35,
   "metadata": {},
   "outputs": [
    {
     "data": {
      "image/png": "[encoded data removed]",
      "text/plain": [
       "<Figure size 432x288 with 1 Axes>"
      ]
     },
     "metadata": {
      "needs_background": "light"
     },
     "output_type": "display_data"
    }
   ],
   "source": [
    "fig, ax = plt.subplots()\n",
    "#ax.plot(msd, 'k-')\n",
    "ax.loglog(msd, 'k-')\n",
    "ax.set(ylabel=r'$\\langle \\Delta r^2 \\rangle$ [$\\mu$m$^2$]', xlabel='lag time $t$');"
   ]
  },
  {
   "cell_type": "code",
   "execution_count": 36,
   "metadata": {
    "scrolled": true
   },
   "outputs": [
    {
     "name": "stdout",
     "output_type": "stream",
     "text": [
      "linear fit slope =  0.9881082225617236 linear fit ind term =  -1.3509660445425098\n"
     ]
    },
    {
     "data": {
      "image/png": "[encoded data removed]",
      "text/plain": [
       "<Figure size 432x288 with 1 Axes>"
      ]
     },
     "metadata": {
      "needs_background": "light"
     },
     "output_type": "display_data"
    }
   ],
   "source": [
    "#data_range = msd[(msd.index >= 0.0) & (msd.index <= 0.1)].index\n",
    "#data_range = msd[msd.index <= 0.1].index.values\n",
    "x = np.array(msd.index)\n",
    "data = np.array(msd)\n",
    "\n",
    "\n",
    "logX = np.log(x)\n",
    "logData = np.log(data)\n",
    "\n",
    "m, c = np.polyfit(logX, logData, 1) # fit log(y) = m*log(x) + c\n",
    "pow_fit = np.exp(m*logX + c) # calculate the fitted values of y \n",
    "\n",
    "#lin_fit = np.polyfit(x, data, 1)\n",
    "\n",
    "#rect = np.polyval(lin_fit, x)\n",
    "\n",
    "plt.plot(msd_tot,\":\",color=\"k\")\n",
    "plt.plot(msd,\".-\",color=\"k\")\n",
    "plt.plot(x, pow_fit, \"r\")\n",
    "\n",
    "plt.xscale('log')\n",
    "plt.yscale('log')\n",
    "plt.xlabel(\"time\")\n",
    "plt.ylabel(\"MSD\")\n",
    "print(\"linear fit slope = \", m, \"linear fit ind term = \", c)\n",
    "#print(\"lin fit slope = \", lin_fit[0], \"lin fit ind term = \", lin_fit[1])"
   ]
  },
  {
   "cell_type": "markdown",
   "metadata": {},
   "source": [
    "The diffusion coefficient value is: $D = 0.1295 \\mu m^2/s$. \n",
    "\n",
    "\n",
    "Hence, the friction coefficient is: $\\xi = k_BT/D = 7.72 k_BT=3.197·10^{-20} J·s/\\mu m^2$\n",
    "\n",
    ", where $k_B = 1.3806·10^{-23} J/K$ and $T = 300 K$. "
   ]
  }
 ],
 "metadata": {
  "kernelspec": {
   "display_name": "Python 3",
   "language": "python",
   "name": "python3"
  },
  "language_info": {
   "codemirror_mode": {
    "name": "ipython",
    "version": 3
   },
   "file_extension": ".py",
   "mimetype": "text/x-python",
   "name": "python",
   "nbconvert_exporter": "python",
   "pygments_lexer": "ipython3",
   "version": "3.7.3"
  }
 },
 "nbformat": 4,
 "nbformat_minor": 2
}
