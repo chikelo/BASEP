{
 "cells": [
  {
   "cell_type": "code",
   "execution_count": 57,
   "metadata": {},
   "outputs": [],
   "source": [
    "import os\n",
    "import pandas as pd\n",
    "import support as sp\n",
    "import numpy as np\n",
    "from tqdm import tqdm_notebook as pb"
   ]
  },
  {
   "cell_type": "code",
   "execution_count": 19,
   "metadata": {},
   "outputs": [
    {
     "data": {
      "text/html": [
       "<div>\n",
       "<style scoped>\n",
       "    .dataframe tbody tr th:only-of-type {\n",
       "        vertical-align: middle;\n",
       "    }\n",
       "\n",
       "    .dataframe tbody tr th {\n",
       "        vertical-align: top;\n",
       "    }\n",
       "\n",
       "    .dataframe thead th {\n",
       "        text-align: right;\n",
       "    }\n",
       "</style>\n",
       "<table border=\"1\" class=\"dataframe\">\n",
       "  <thead>\n",
       "    <tr style=\"text-align: right;\">\n",
       "      <th></th>\n",
       "      <th>name</th>\n",
       "      <th>time</th>\n",
       "      <th>id</th>\n",
       "      <th>x</th>\n",
       "      <th>y</th>\n",
       "    </tr>\n",
       "  </thead>\n",
       "  <tbody>\n",
       "    <tr>\n",
       "      <th>0</th>\n",
       "      <td>Test11_2019_11_28_15_09_06</td>\n",
       "      <td>0.0</td>\n",
       "      <td>0</td>\n",
       "      <td>NaN</td>\n",
       "      <td>NaN</td>\n",
       "    </tr>\n",
       "    <tr>\n",
       "      <th>1</th>\n",
       "      <td>Test11_2019_11_28_15_09_06</td>\n",
       "      <td>0.0</td>\n",
       "      <td>1</td>\n",
       "      <td>NaN</td>\n",
       "      <td>NaN</td>\n",
       "    </tr>\n",
       "    <tr>\n",
       "      <th>2</th>\n",
       "      <td>Test11_2019_11_28_15_09_06</td>\n",
       "      <td>0.0</td>\n",
       "      <td>2</td>\n",
       "      <td>NaN</td>\n",
       "      <td>NaN</td>\n",
       "    </tr>\n",
       "    <tr>\n",
       "      <th>3</th>\n",
       "      <td>Test11_2019_11_28_15_09_06</td>\n",
       "      <td>0.0</td>\n",
       "      <td>3</td>\n",
       "      <td>NaN</td>\n",
       "      <td>NaN</td>\n",
       "    </tr>\n",
       "    <tr>\n",
       "      <th>4</th>\n",
       "      <td>Test11_2019_11_28_15_09_06</td>\n",
       "      <td>0.0</td>\n",
       "      <td>4</td>\n",
       "      <td>NaN</td>\n",
       "      <td>NaN</td>\n",
       "    </tr>\n",
       "  </tbody>\n",
       "</table>\n",
       "</div>"
      ],
      "text/plain": [
       "                         name  time  id   x   y\n",
       "0  Test11_2019_11_28_15_09_06   0.0   0 NaN NaN\n",
       "1  Test11_2019_11_28_15_09_06   0.0   1 NaN NaN\n",
       "2  Test11_2019_11_28_15_09_06   0.0   2 NaN NaN\n",
       "3  Test11_2019_11_28_15_09_06   0.0   3 NaN NaN\n",
       "4  Test11_2019_11_28_15_09_06   0.0   4 NaN NaN"
      ]
     },
     "execution_count": 19,
     "metadata": {},
     "output_type": "execute_result"
    }
   ],
   "source": [
    "filePath = r\"C:\\Users\\Eric\\Documents\\Projects\\BASEP\\BASEP_tests\\20191128\\Test11_2019_11_28_15_09_06\"\n",
    "t = sp.load_dat(filePath)\n",
    "t = t.reset_index()\n",
    "t.time = (t.time-t.time[0]).dt.total_seconds()\n",
    "t.head()"
   ]
  },
  {
   "cell_type": "code",
   "execution_count": 46,
   "metadata": {},
   "outputs": [
    {
     "data": {
      "text/html": [
       "<div>\n",
       "<style scoped>\n",
       "    .dataframe tbody tr th:only-of-type {\n",
       "        vertical-align: middle;\n",
       "    }\n",
       "\n",
       "    .dataframe tbody tr th {\n",
       "        vertical-align: top;\n",
       "    }\n",
       "\n",
       "    .dataframe thead th {\n",
       "        text-align: right;\n",
       "    }\n",
       "</style>\n",
       "<table border=\"1\" class=\"dataframe\">\n",
       "  <thead>\n",
       "    <tr style=\"text-align: right;\">\n",
       "      <th></th>\n",
       "      <th>time</th>\n",
       "      <th>id</th>\n",
       "      <th>x</th>\n",
       "      <th>y</th>\n",
       "    </tr>\n",
       "  </thead>\n",
       "  <tbody>\n",
       "    <tr>\n",
       "      <th>6</th>\n",
       "      <td>0.000</td>\n",
       "      <td>6</td>\n",
       "      <td>9.106734</td>\n",
       "      <td>5.630421</td>\n",
       "    </tr>\n",
       "    <tr>\n",
       "      <th>20</th>\n",
       "      <td>0.066</td>\n",
       "      <td>6</td>\n",
       "      <td>9.153389</td>\n",
       "      <td>5.616509</td>\n",
       "    </tr>\n",
       "    <tr>\n",
       "      <th>34</th>\n",
       "      <td>0.133</td>\n",
       "      <td>6</td>\n",
       "      <td>9.232917</td>\n",
       "      <td>5.593312</td>\n",
       "    </tr>\n",
       "    <tr>\n",
       "      <th>48</th>\n",
       "      <td>0.200</td>\n",
       "      <td>6</td>\n",
       "      <td>9.316322</td>\n",
       "      <td>5.540272</td>\n",
       "    </tr>\n",
       "    <tr>\n",
       "      <th>62</th>\n",
       "      <td>0.266</td>\n",
       "      <td>6</td>\n",
       "      <td>9.396828</td>\n",
       "      <td>5.544930</td>\n",
       "    </tr>\n",
       "  </tbody>\n",
       "</table>\n",
       "</div>"
      ],
      "text/plain": [
       "     time  id         x         y\n",
       "6   0.000   6  9.106734  5.630421\n",
       "20  0.066   6  9.153389  5.616509\n",
       "34  0.133   6  9.232917  5.593312\n",
       "48  0.200   6  9.316322  5.540272\n",
       "62  0.266   6  9.396828  5.544930"
      ]
     },
     "execution_count": 46,
     "metadata": {},
     "output_type": "execute_result"
    }
   ],
   "source": [
    "for i in t.id.unique().tolist():\n",
    "    if t[t.id==i].isnull().any().any() == False:\n",
    "        new_t = t[t.id==i]\n",
    "        \n",
    "del new_t[\"name\"]\n",
    "new_t = sp.from_px_to_um(new_t,0.1805)\n",
    "new_t.head()"
   ]
  },
  {
   "cell_type": "code",
   "execution_count": 45,
   "metadata": {},
   "outputs": [],
   "source": [
    "new_t.to_csv(r\"C:\\Users\\Eric\\Documents\\Projects\\BASEP\\Datasets\\20191128\\test.dat\", sep='\\t')"
   ]
  },
  {
   "cell_type": "markdown",
   "metadata": {},
   "source": [
    "# Batch"
   ]
  },
  {
   "cell_type": "code",
   "execution_count": 21,
   "metadata": {},
   "outputs": [],
   "source": [
    "directory = r\"C:\\Users\\Eric\\Documents\\Projects\\BASEP\\BASEP_tests\\20191128\"#\\tracking_files\" #Insert here your directory\n",
    "\n",
    "tests = np.linspace(1,56,56,dtype=int)"
   ]
  },
  {
   "cell_type": "code",
   "execution_count": 31,
   "metadata": {},
   "outputs": [
    {
     "data": {
      "text/plain": [
       "56"
      ]
     },
     "execution_count": 31,
     "metadata": {},
     "output_type": "execute_result"
    }
   ],
   "source": [
    "pre_list = sp.get_names(directory,ext = \".dat\")\n",
    "\n",
    "pre_list = pre_list[:]\n",
    "\n",
    "files = []\n",
    "\n",
    "for test_number in tests:\n",
    "\n",
    "    file_name = \"Test{0}_\".format(test_number)\n",
    "\n",
    "    for file in pre_list:\n",
    "\n",
    "        if file_name in file:\n",
    "            files.append(file)\n",
    "\n",
    "len(files)"
   ]
  },
  {
   "cell_type": "code",
   "execution_count": 39,
   "metadata": {},
   "outputs": [],
   "source": [
    "dataset_dir = r\"C:\\Users\\Eric\\Documents\\Projects\\BASEP\\Datasets\\20191128\""
   ]
  },
  {
   "cell_type": "code",
   "execution_count": 65,
   "metadata": {
    "scrolled": true
   },
   "outputs": [
    {
     "data": {
      "application/vnd.jupyter.widget-view+json": {
       "model_id": "d79b2a33fc074e19aed1c7764179af0a",
       "version_major": 2,
       "version_minor": 0
      },
      "text/plain": [
       "HBox(children=(IntProgress(value=1, bar_style='info', max=1), HTML(value='')))"
      ]
     },
     "metadata": {},
     "output_type": "display_data"
    },
    {
     "name": "stdout",
     "output_type": "stream",
     "text": [
      "\n"
     ]
    }
   ],
   "source": [
    "for test, filename in pb(enumerate(files)):\n",
    "        \n",
    "    t = sp.load_dat(filename)\n",
    "    t = t.reset_index()\n",
    "    t.time = (t.time-t.time[0]).dt.total_seconds()\n",
    "    \n",
    "    for i in t.id.unique().tolist():\n",
    "        if t[t.id==i].isnull().any().any() == False:\n",
    "            new_t = t[t.id==i]\n",
    "            \n",
    "    del new_t[\"name\"]\n",
    "    new_t = new_t.reset_index(drop=True)\n",
    "    new_t = sp.from_px_to_um(new_t,0.1805)\n",
    "    save_filepath = dataset_dir+'\\\\Tracking_Test{0}_20191128.dat'.format(test+1) \n",
    "    new_t.to_csv(save_filepath, sep='\\t')"
   ]
  },
  {
   "cell_type": "markdown",
   "metadata": {},
   "source": [
    "# Loop Test"
   ]
  },
  {
   "cell_type": "code",
   "execution_count": 60,
   "metadata": {},
   "outputs": [],
   "source": [
    "foo = 897\n",
    "t = sp.load_dat(files[0])\n",
    "t = t.reset_index()\n",
    "t.time = (t.time-t.time[0]).dt.total_seconds()\n",
    "\n",
    "for i in t.id.unique().tolist():\n",
    "    if t[t.id==i].isnull().any().any() == False:\n",
    "        new_t = t[t.id==i]\n",
    "\n",
    "del new_t[\"name\"]\n",
    "new_t = new_t.reset_index(drop=True)\n",
    "new_t = sp.from_px_to_um(new_t,0.1805)\n",
    "new_t.to_csv(dataset_dir+'\\\\Tracking_Test{0}.dat'.format(foo+100), sep='\\t')"
   ]
  },
  {
   "cell_type": "code",
   "execution_count": 59,
   "metadata": {
    "scrolled": true
   },
   "outputs": [
    {
     "data": {
      "text/html": [
       "<div>\n",
       "<style scoped>\n",
       "    .dataframe tbody tr th:only-of-type {\n",
       "        vertical-align: middle;\n",
       "    }\n",
       "\n",
       "    .dataframe tbody tr th {\n",
       "        vertical-align: top;\n",
       "    }\n",
       "\n",
       "    .dataframe thead th {\n",
       "        text-align: right;\n",
       "    }\n",
       "</style>\n",
       "<table border=\"1\" class=\"dataframe\">\n",
       "  <thead>\n",
       "    <tr style=\"text-align: right;\">\n",
       "      <th></th>\n",
       "      <th>time</th>\n",
       "      <th>id</th>\n",
       "      <th>x</th>\n",
       "      <th>y</th>\n",
       "    </tr>\n",
       "  </thead>\n",
       "  <tbody>\n",
       "    <tr>\n",
       "      <th>0</th>\n",
       "      <td>0.000</td>\n",
       "      <td>15</td>\n",
       "      <td>35.695500</td>\n",
       "      <td>45.008036</td>\n",
       "    </tr>\n",
       "    <tr>\n",
       "      <th>1</th>\n",
       "      <td>0.067</td>\n",
       "      <td>15</td>\n",
       "      <td>35.643876</td>\n",
       "      <td>44.622849</td>\n",
       "    </tr>\n",
       "    <tr>\n",
       "      <th>2</th>\n",
       "      <td>0.133</td>\n",
       "      <td>15</td>\n",
       "      <td>35.752357</td>\n",
       "      <td>44.128820</td>\n",
       "    </tr>\n",
       "    <tr>\n",
       "      <th>3</th>\n",
       "      <td>0.200</td>\n",
       "      <td>15</td>\n",
       "      <td>35.811922</td>\n",
       "      <td>43.750493</td>\n",
       "    </tr>\n",
       "    <tr>\n",
       "      <th>4</th>\n",
       "      <td>0.267</td>\n",
       "      <td>15</td>\n",
       "      <td>35.950727</td>\n",
       "      <td>43.552484</td>\n",
       "    </tr>\n",
       "  </tbody>\n",
       "</table>\n",
       "</div>"
      ],
      "text/plain": [
       "    time  id          x          y\n",
       "0  0.000  15  35.695500  45.008036\n",
       "1  0.067  15  35.643876  44.622849\n",
       "2  0.133  15  35.752357  44.128820\n",
       "3  0.200  15  35.811922  43.750493\n",
       "4  0.267  15  35.950727  43.552484"
      ]
     },
     "execution_count": 59,
     "metadata": {},
     "output_type": "execute_result"
    }
   ],
   "source": [
    "new_t.head()"
   ]
  }
 ],
 "metadata": {
  "kernelspec": {
   "display_name": "Python 3",
   "language": "python",
   "name": "python3"
  },
  "language_info": {
   "codemirror_mode": {
    "name": "ipython",
    "version": 3
   },
   "file_extension": ".py",
   "mimetype": "text/x-python",
   "name": "python",
   "nbconvert_exporter": "python",
   "pygments_lexer": "ipython3",
   "version": "3.7.3"
  }
 },
 "nbformat": 4,
 "nbformat_minor": 2
}
