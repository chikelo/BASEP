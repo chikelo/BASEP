{
 "cells": [
  {
   "cell_type": "markdown",
   "metadata": {},
   "source": [
    "# Density wave of particles in the ring analysis "
   ]
  },
  {
   "cell_type": "markdown",
   "metadata": {},
   "source": [
    "The aim of this scrip is to analyze the behaviour of particles in the optical tweezers ring when they jump from one trap to another and see the propagating wave in the system when there is jamming"
   ]
  },
  {
   "cell_type": "code",
   "execution_count": 1,
   "metadata": {},
   "outputs": [],
   "source": [
    "#Imports\n",
    "import matplotlib as mpl\n",
    "import matplotlib.pyplot as plt\n",
    "\n",
    "import numpy as np\n",
    "import pandas as pd\n",
    "import scipy.optimize as spo\n",
    "\n",
    "from tqdm import tqdm_notebook\n",
    "\n",
    "idx = pd.IndexSlice\n",
    "%matplotlib inline\n",
    "\n",
    "from scipy.interpolate import make_interp_spline, BSpline"
   ]
  },
  {
   "cell_type": "code",
   "execution_count": 4,
   "metadata": {
    "scrolled": true
   },
   "outputs": [
    {
     "data": {
      "text/html": [
       "<div>\n",
       "<style scoped>\n",
       "    .dataframe tbody tr th:only-of-type {\n",
       "        vertical-align: middle;\n",
       "    }\n",
       "\n",
       "    .dataframe tbody tr th {\n",
       "        vertical-align: top;\n",
       "    }\n",
       "\n",
       "    .dataframe thead th {\n",
       "        text-align: right;\n",
       "    }\n",
       "</style>\n",
       "<table border=\"1\" class=\"dataframe\">\n",
       "  <thead>\n",
       "    <tr style=\"text-align: right;\">\n",
       "      <th></th>\n",
       "      <th></th>\n",
       "      <th>x</th>\n",
       "      <th>y</th>\n",
       "      <th>x0</th>\n",
       "      <th>y0</th>\n",
       "      <th>r</th>\n",
       "      <th>theta</th>\n",
       "      <th>time</th>\n",
       "      <th>theta_prime</th>\n",
       "      <th>theta_prime_unwrap</th>\n",
       "      <th>d_theta_prime</th>\n",
       "      <th>theta_dot_prime</th>\n",
       "    </tr>\n",
       "    <tr>\n",
       "      <th>frame</th>\n",
       "      <th>particle</th>\n",
       "      <th></th>\n",
       "      <th></th>\n",
       "      <th></th>\n",
       "      <th></th>\n",
       "      <th></th>\n",
       "      <th></th>\n",
       "      <th></th>\n",
       "      <th></th>\n",
       "      <th></th>\n",
       "      <th></th>\n",
       "      <th></th>\n",
       "    </tr>\n",
       "  </thead>\n",
       "  <tbody>\n",
       "    <tr>\n",
       "      <th rowspan=\"5\" valign=\"top\">0</th>\n",
       "      <th>0</th>\n",
       "      <td>347.996549</td>\n",
       "      <td>140.215129</td>\n",
       "      <td>-19.410221</td>\n",
       "      <td>-150.861264</td>\n",
       "      <td>152.104825</td>\n",
       "      <td>-1.698756</td>\n",
       "      <td>0.0</td>\n",
       "      <td>4.584094</td>\n",
       "      <td>4.584094</td>\n",
       "      <td>NaN</td>\n",
       "      <td>NaN</td>\n",
       "    </tr>\n",
       "    <tr>\n",
       "      <th>1</th>\n",
       "      <td>369.850460</td>\n",
       "      <td>442.583751</td>\n",
       "      <td>2.443690</td>\n",
       "      <td>151.507358</td>\n",
       "      <td>151.527064</td>\n",
       "      <td>1.554669</td>\n",
       "      <td>0.0</td>\n",
       "      <td>1.554653</td>\n",
       "      <td>1.554653</td>\n",
       "      <td>NaN</td>\n",
       "      <td>NaN</td>\n",
       "    </tr>\n",
       "    <tr>\n",
       "      <th>2</th>\n",
       "      <td>335.427620</td>\n",
       "      <td>440.036851</td>\n",
       "      <td>-31.979150</td>\n",
       "      <td>148.960458</td>\n",
       "      <td>152.354469</td>\n",
       "      <td>1.782269</td>\n",
       "      <td>0.0</td>\n",
       "      <td>1.782303</td>\n",
       "      <td>1.782303</td>\n",
       "      <td>NaN</td>\n",
       "      <td>NaN</td>\n",
       "    </tr>\n",
       "    <tr>\n",
       "      <th>3</th>\n",
       "      <td>411.544765</td>\n",
       "      <td>435.905654</td>\n",
       "      <td>44.137995</td>\n",
       "      <td>144.829260</td>\n",
       "      <td>151.405671</td>\n",
       "      <td>1.274979</td>\n",
       "      <td>0.0</td>\n",
       "      <td>1.275215</td>\n",
       "      <td>1.275215</td>\n",
       "      <td>NaN</td>\n",
       "      <td>NaN</td>\n",
       "    </tr>\n",
       "    <tr>\n",
       "      <th>4</th>\n",
       "      <td>308.091328</td>\n",
       "      <td>431.054101</td>\n",
       "      <td>-59.315442</td>\n",
       "      <td>139.977708</td>\n",
       "      <td>152.026578</td>\n",
       "      <td>1.971607</td>\n",
       "      <td>0.0</td>\n",
       "      <td>1.971451</td>\n",
       "      <td>1.971451</td>\n",
       "      <td>NaN</td>\n",
       "      <td>NaN</td>\n",
       "    </tr>\n",
       "  </tbody>\n",
       "</table>\n",
       "</div>"
      ],
      "text/plain": [
       "                         x           y         x0          y0           r  \\\n",
       "frame particle                                                              \n",
       "0     0         347.996549  140.215129 -19.410221 -150.861264  152.104825   \n",
       "      1         369.850460  442.583751   2.443690  151.507358  151.527064   \n",
       "      2         335.427620  440.036851 -31.979150  148.960458  152.354469   \n",
       "      3         411.544765  435.905654  44.137995  144.829260  151.405671   \n",
       "      4         308.091328  431.054101 -59.315442  139.977708  152.026578   \n",
       "\n",
       "                   theta  time  theta_prime  theta_prime_unwrap  \\\n",
       "frame particle                                                    \n",
       "0     0        -1.698756   0.0     4.584094            4.584094   \n",
       "      1         1.554669   0.0     1.554653            1.554653   \n",
       "      2         1.782269   0.0     1.782303            1.782303   \n",
       "      3         1.274979   0.0     1.275215            1.275215   \n",
       "      4         1.971607   0.0     1.971451            1.971451   \n",
       "\n",
       "                d_theta_prime  theta_dot_prime  \n",
       "frame particle                                  \n",
       "0     0                   NaN              NaN  \n",
       "      1                   NaN              NaN  \n",
       "      2                   NaN              NaN  \n",
       "      3                   NaN              NaN  \n",
       "      4                   NaN              NaN  "
      ]
     },
     "execution_count": 4,
     "metadata": {},
     "output_type": "execute_result"
    }
   ],
   "source": [
    "#Loading the tracking matrix from csv file \n",
    "filePath = \"Coordinates_Test49_20190426.dat\"\n",
    "t = pd.read_csv(filePath ,sep = \"\\t\", index_col=[0, 1])\n",
    "t.sort_index()\n",
    "t.head()"
   ]
  },
  {
   "cell_type": "code",
   "execution_count": 39,
   "metadata": {
    "scrolled": true
   },
   "outputs": [
    {
     "data": {
      "text/plain": [
       "Text(0.5,1,'Particle Position Histogram')"
      ]
     },
     "execution_count": 39,
     "metadata": {},
     "output_type": "execute_result"
    },
    {
     "data": {
      "image/png": "[encoded data removed]",
      "text/plain": [
       "<Figure size 432x288 with 1 Axes>"
      ]
     },
     "metadata": {},
     "output_type": "display_data"
    }
   ],
   "source": [
    "plt.hist(t.loc[idx[0,:],\"theta_prime\"], 32)\n",
    "plt.title(\"Particle Position Histogram\")"
   ]
  },
  {
   "cell_type": "code",
   "execution_count": 5,
   "metadata": {},
   "outputs": [
    {
     "data": {
      "text/plain": [
       "Text(0.5,1,'Particle Position Histogram')"
      ]
     },
     "execution_count": 5,
     "metadata": {},
     "output_type": "execute_result"
    },
    {
     "data": {
      "image/png": "[encoded data removed]",
      "text/plain": [
       "<Figure size 540x360 with 2 Axes>"
      ]
     },
     "metadata": {},
     "output_type": "display_data"
    }
   ],
   "source": [
    "theta_bins = np.linspace(-np.pi,np.pi,30) #100 => particulas individuales \n",
    "fig = plt.figure(figsize = (7.5, 5))\n",
    "lim = 20\n",
    "\n",
    "cmap = plt.cm.get_cmap(\"hot\")\n",
    "\n",
    "plt.hist2d(t.loc[idx[:,:],\"theta_prime\"], t.loc[idx[:,:],\"time\"], bins=[100, len(t.loc[idx[:,0],\"time\"])], cmap =cmap)\n",
    "cbar = plt.colorbar()\n",
    "cbar.ax.set_ylabel('Counts')\n",
    "#cbar.set_clim(vmin=0,vmax=1)\n",
    "plt.title(\"Particle Position Histogram\")"
   ]
  },
  {
   "cell_type": "code",
   "execution_count": null,
   "metadata": {},
   "outputs": [],
   "source": []
  },
  {
   "cell_type": "code",
   "execution_count": null,
   "metadata": {},
   "outputs": [],
   "source": []
  }
 ],
 "metadata": {
  "kernelspec": {
   "display_name": "Python 3",
   "language": "python",
   "name": "python3"
  },
  "language_info": {
   "codemirror_mode": {
    "name": "ipython",
    "version": 3
   },
   "file_extension": ".py",
   "mimetype": "text/x-python",
   "name": "python",
   "nbconvert_exporter": "python",
   "pygments_lexer": "ipython3",
   "version": "3.7.3"
  }
 },
 "nbformat": 4,
 "nbformat_minor": 2
}
