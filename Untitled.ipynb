{
 "cells": [
  {
   "cell_type": "code",
   "execution_count": 1,
   "metadata": {},
   "outputs": [],
   "source": [
    "#Imports\n",
    "import os\n",
    "import matplotlib as mpl\n",
    "import matplotlib.pyplot as plt\n",
    "import matplotlib.animation as animation\n",
    "import matplotlib.collections as mpc\n",
    "\n",
    "import numpy as np\n",
    "import scipy.optimize as opt\n",
    "import pandas as pd\n",
    "from pandas import DataFrame, Series\n",
    "\n",
    "from tqdm import tqdm_notebook\n",
    "\n",
    "idx = pd.IndexSlice\n",
    "%matplotlib inline"
   ]
  },
  {
   "cell_type": "code",
   "execution_count": 2,
   "metadata": {},
   "outputs": [],
   "source": [
    "#Function to establish the centre of a circle inthe origin. \n",
    "import scipy.optimize as spo\n",
    "def get_center(trj):\n",
    "    \n",
    "    def calc_R(xc, yc):\n",
    "        \"\"\" calculate the distance of each 2D points from the center (xc, yc) \"\"\"\n",
    "        return np.sqrt((trj.x.values-xc)**2 + (trj.y.values-yc)**2)\n",
    "\n",
    "    def f_2(c):\n",
    "        \"\"\" calculate the algebraic distance between the data points and the mean circle centered at c=(xc, yc) \"\"\"\n",
    "        Ri = calc_R(*c)\n",
    "        return Ri - Ri.mean()    \n",
    "\n",
    "    center_estimate = 0, 0\n",
    "    center, ir = spo.leastsq(f_2, center_estimate)\n",
    "    return center"
   ]
  },
  {
   "cell_type": "code",
   "execution_count": 3,
   "metadata": {},
   "outputs": [],
   "source": [
    "def openFile(filePath):\n",
    "    \n",
    "    t = pd.read_csv(filePath ,sep = \"\\t\", index_col=[0])\n",
    "    t = t.set_index([\"frame\",\"particle\"])\n",
    "    t = t.filter([\"x\",\"y\"])\n",
    "    t = t.sort_index()\n",
    "    \n",
    "    return t"
   ]
  },
  {
   "cell_type": "code",
   "execution_count": 77,
   "metadata": {},
   "outputs": [],
   "source": [
    "def from_px_to_um(trj,px_size):\n",
    "    trj.x = trj.x*px_size # microns per pixel\n",
    "    trj.y = trj.y*px_size # microns per pixel\n",
    "    return trj"
   ]
  },
  {
   "cell_type": "code",
   "execution_count": 75,
   "metadata": {},
   "outputs": [],
   "source": [
    "def includeTimestamps(trj, tmstFile):\n",
    "    \n",
    "    #Loading the timestamps of the video to have the time of each position\n",
    "    timestamp = pd.read_csv(tmstFile, sep=\"\\r\", header = None,names=[\"time\"])\n",
    "\n",
    "    #Calculation of timestamps in nanoseconds\n",
    "    timestamp[\"datetime\"] =  pd.to_datetime(timestamp.time+2*3600, unit=\"s\", origin=pd.Timestamp('1904-01-01'))\n",
    "    timestamp[\"ellapsed_time\"] = (timestamp.datetime-timestamp.datetime[0])\n",
    "    timestamp[\"time\"] = timestamp.ellapsed_time.dt.total_seconds()\n",
    "    \n",
    "    trj[\"time\"] = np.NaN\n",
    "    length = len(trj.loc[idx[:, 0], :])\n",
    "\n",
    "    for p in trj.index.get_level_values(\"particle\").unique().to_list():\n",
    "        trj.loc[idx[:, p], \"time\"] = timestamp.time[:length].values\n",
    "    \n",
    "    return trj"
   ]
  },
  {
   "cell_type": "code",
   "execution_count": 5,
   "metadata": {},
   "outputs": [],
   "source": [
    "def getPolarCoordinates(t):\n",
    "    center = get_center(t)\n",
    "    t[\"x0\"] = t.x-center[0]\n",
    "    t[\"y0\"] = t.y-center[1]\n",
    "    t[\"r\"] = np.sqrt(t.x0**2 + t.y0**2)\n",
    "    t[\"theta\"] = np.arctan2(t.y0,t.x0)\n",
    "    return t"
   ]
  },
  {
   "cell_type": "code",
   "execution_count": 71,
   "metadata": {},
   "outputs": [],
   "source": [
    "def coordinateChange(trj, omega):\n",
    "\n",
    "    trj[\"theta_prime\"] = np.NaN\n",
    "\n",
    "    for p in trj.index.get_level_values(\"particle\").unique().to_list():\n",
    "        \n",
    "        trj.loc[idx[:, p], \"theta_prime\"] = trj.loc[idx[:, p], \"theta\"].values-trj.loc[idx[:, p], \"time\"].values*omega\n",
    "        \n",
    "        \n",
    "        #theta = t.loc[t.particle == p].theta.reset_index(drop=True)\n",
    "        #time = timestamp.time[:len(theta)]\n",
    "        \n",
    "        #theta_prime[\"theta\"] = abs(theta-time*omega)\n",
    "        #theta prime for specific particle\n",
    "        #theta_prime[\"unwrap\"] = np.unwrap(theta_prime.theta) #unwrap\n",
    "        #omega_particle = theta_prime.unwrap.diff()/time.diff() #velocity of specific particle \n",
    "        #omega_particle_mean.append(omega_particle.mean())\n",
    "        \n",
    "    return trj"
   ]
  },
  {
   "cell_type": "code",
   "execution_count": 74,
   "metadata": {
    "scrolled": true
   },
   "outputs": [
    {
     "data": {
      "text/plain": [
       "frame  particle\n",
       "0      0          NaN\n",
       "       1          NaN\n",
       "       2          NaN\n",
       "       3          NaN\n",
       "       4          NaN\n",
       "       5          NaN\n",
       "       6          NaN\n",
       "       7          NaN\n",
       "       8          NaN\n",
       "       9          NaN\n",
       "       10         NaN\n",
       "       11         NaN\n",
       "       12         NaN\n",
       "       13         NaN\n",
       "       14         NaN\n",
       "       15         NaN\n",
       "       16         NaN\n",
       "       17         NaN\n",
       "       18         NaN\n",
       "       19         NaN\n",
       "       20         NaN\n",
       "       21         NaN\n",
       "       22         NaN\n",
       "       23         NaN\n",
       "       24         NaN\n",
       "       25         NaN\n",
       "1      0          NaN\n",
       "       1          NaN\n",
       "       2          NaN\n",
       "       3          NaN\n",
       "                   ..\n",
       "11096  22         NaN\n",
       "       23         NaN\n",
       "       24         NaN\n",
       "       25         NaN\n",
       "11097  0          NaN\n",
       "       1          NaN\n",
       "       2          NaN\n",
       "       3          NaN\n",
       "       4          NaN\n",
       "       5          NaN\n",
       "       6          NaN\n",
       "       7          NaN\n",
       "       8          NaN\n",
       "       9          NaN\n",
       "       10         NaN\n",
       "       11         NaN\n",
       "       12         NaN\n",
       "       13         NaN\n",
       "       14         NaN\n",
       "       15         NaN\n",
       "       16         NaN\n",
       "       17         NaN\n",
       "       18         NaN\n",
       "       19         NaN\n",
       "       20         NaN\n",
       "       21         NaN\n",
       "       22         NaN\n",
       "       23         NaN\n",
       "       24         NaN\n",
       "       25         NaN\n",
       "Name: time, Length: 288548, dtype: float64"
      ]
     },
     "execution_count": 74,
     "metadata": {},
     "output_type": "execute_result"
    }
   ],
   "source": [
    "trj.time"
   ]
  },
  {
   "cell_type": "code",
   "execution_count": 79,
   "metadata": {
    "scrolled": true
   },
   "outputs": [],
   "source": [
    "tracking_File = \"Tracking_Test20_20190617.dat\"\n",
    "Timestamp_Directory = \"C:/Users/Eric/Desktop/Timestamp_Files/\"\n",
    "Timestamp_Name = \"Test20.dat\"\n",
    "Timestamp_Filepath = \"C:/Users/Eric/Desktop/Timestamp_Files/Test20.dat\"\n",
    "\n",
    "saveDir = \"‪C:/Users/Eric/Desktop/Trajectories/\"\n",
    "\n",
    "omega = [0.72]*11+[0.66]*11+[0.54]*10+[0.46]*10\n",
    "i = 0\n",
    "\n",
    "for nTest in np.linspace(20,61, 42, dtype=int): #[20, 21]:#\n",
    "\n",
    "    trj = openFile(tracking_File)\n",
    "    trj = from_px_to_um(trj,0.1805)\n",
    "    trj = includeTimestamps(trj, Timestamp_Filepath)\n",
    "    \n",
    "    trj = getPolarCoordinates(trj)\n",
    "    \n",
    "    trj.x = trj.x0\n",
    "    trj.y = trj.y0\n",
    "    \n",
    "    trj = coordinateChange(trj, omega[i])\n",
    "    \n",
    "    trj.theta = trj.theta_prime\n",
    "        \n",
    "    trj = trj.filter([\"x\", \"y\", \"time\", \"r\", \"theta\"])\n",
    "    saveName = \"Trajectory_\"+str(nTest)+\".dat\"\n",
    "    saveFilepath = saveDir+saveName\n",
    "    \n",
    "    trj.to_csv(r\"C:\\Users\\Eric\\Desktop\\Trajectories\\{0}.dat\".format(saveName), sep=\"\\t\")\n",
    "    \n",
    "    strg = Timestamp_Name.split('.')[0]\n",
    "    strg = strg.replace(str(nTest), str(nTest+1))\n",
    "    splitted = Timestamp_Name.split('.')\n",
    "    Timestamp_Name =  strg + \".\" + splitted[1]\n",
    "    Timestamp_Filepath = Timestamp_Directory+Timestamp_Name\n",
    "\n",
    "    strg2 = tracking_File.split('_')[1]\n",
    "    strg2 = strg2.replace(str(nTest), str(nTest+1))\n",
    "    splitted2 = tracking_File.split('_')\n",
    "    tracking_File =  splitted2[0] + \"_\" + strg2 + \"_\"+  splitted2[2]\n",
    "\n",
    "\n",
    "#str(nTest)\n",
    "\n",
    "#Timestamp_Name.split('_')[0]# - Timestamp_Name.split('_')[0][-2:]"
   ]
  }
 ],
 "metadata": {
  "kernelspec": {
   "display_name": "Python 3",
   "language": "python",
   "name": "python3"
  },
  "language_info": {
   "codemirror_mode": {
    "name": "ipython",
    "version": 3
   },
   "file_extension": ".py",
   "mimetype": "text/x-python",
   "name": "python",
   "nbconvert_exporter": "python",
   "pygments_lexer": "ipython3",
   "version": "3.7.3"
  }
 },
 "nbformat": 4,
 "nbformat_minor": 2
}
