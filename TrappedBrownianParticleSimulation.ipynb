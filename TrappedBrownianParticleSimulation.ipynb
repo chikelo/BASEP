{
 "cells": [
  {
   "cell_type": "markdown",
   "metadata": {},
   "source": [
    "# A simple simulation of a trapped Brownian Particle"
   ]
  },
  {
   "cell_type": "code",
   "execution_count": 1,
   "metadata": {},
   "outputs": [],
   "source": [
    "import numpy as np\n",
    "import matplotlib.pyplot as plt\n",
    "import pandas as pd\n",
    "import pint\n",
    "import scipy.optimize as spo\n",
    "\n",
    "ureg = pint.UnitRegistry()\n",
    "%matplotlib inline"
   ]
  },
  {
   "cell_type": "code",
   "execution_count": 2,
   "metadata": {},
   "outputs": [],
   "source": [
    "t = np.linspace(0,1,100000)\n",
    "x = np.empty(np.shape(t))"
   ]
  },
  {
   "cell_type": "markdown",
   "metadata": {},
   "source": [
    "# First a simulation of a free particle"
   ]
  },
  {
   "cell_type": "code",
   "execution_count": 3,
   "metadata": {},
   "outputs": [],
   "source": [
    "kbT = 4 * ureg.pN * ureg.nm\n",
    "D = (0.27 * ureg.um**2/ureg.s)\n",
    "gm = (kbT/D).to(ureg.pN/ureg.um*ureg.s)"
   ]
  },
  {
   "cell_type": "code",
   "execution_count": 4,
   "metadata": {},
   "outputs": [],
   "source": [
    "dt = np.mean(np.diff(t))*ureg.s\n",
    "\n",
    "NoiseFactor = np.sqrt((2*dt*D)).to(ureg.um).magnitude\n",
    "x[0] = 0\n",
    "for i,ti in enumerate(t[1:]):\n",
    "    x[i+1] = x[i] + NoiseFactor*np.random.randn()"
   ]
  },
  {
   "cell_type": "code",
   "execution_count": 5,
   "metadata": {},
   "outputs": [
    {
     "data": {
      "text/plain": [
       "[<matplotlib.lines.Line2D at 0x2521581e748>]"
      ]
     },
     "execution_count": 5,
     "metadata": {},
     "output_type": "execute_result"
    },
    {
     "data": {
      "image/png": "[encoded data removed]",
      "text/plain": [
       "<Figure size 432x288 with 1 Axes>"
      ]
     },
     "metadata": {
      "needs_background": "light"
     },
     "output_type": "display_data"
    }
   ],
   "source": [
    "plt.plot(t,x)"
   ]
  },
  {
   "cell_type": "code",
   "execution_count": 6,
   "metadata": {
    "scrolled": true
   },
   "outputs": [],
   "source": [
    "trj = pd.DataFrame(data = np.array([x,t]).transpose(), index = t, columns = [\"x\",\"t\"])"
   ]
  },
  {
   "cell_type": "code",
   "execution_count": 7,
   "metadata": {},
   "outputs": [],
   "source": [
    "def calculate_msd(series,lag_frame,col_name=None,framerate=1,particle_id = None):\n",
    "    \n",
    "    if col_name is None:\n",
    "        col_name = series.columns.values\n",
    "        \n",
    "    def msd_point(lag):\n",
    "        return np.nanmean((series[col_name].values[lag:]-series[col_name].values[:-lag])**2,axis=0)\n",
    "    \n",
    "    columns = [\"msd_\"+name for name in col_name]\n",
    "    \n",
    "    result =  pd.DataFrame(\n",
    "        data=[msd_point(lag) for lag in lag_frame],\n",
    "        index=lag_frame/framerate,columns=columns)\n",
    "    \n",
    "    result.index.name = \"dt\"\n",
    "\n",
    "    if particle_id is not None:\n",
    "        result[\"id\"] = particle_id\n",
    "        result[\"dt\"] = result.index.values\n",
    "        result = result.set_index([\"dt\",\"id\"])\n",
    "    \n",
    "    return result"
   ]
  },
  {
   "cell_type": "code",
   "execution_count": 8,
   "metadata": {},
   "outputs": [
    {
     "name": "stderr",
     "output_type": "stream",
     "text": [
      "C:\\Users\\Eric\\Anaconda3\\lib\\site-packages\\pint\\quantity.py:1377: UnitStrippedWarning: The unit of the quantity is stripped.\n",
      "  warnings.warn(\"The unit of the quantity is stripped.\", UnitStrippedWarning)\n"
     ]
    }
   ],
   "source": [
    "msd = calculate_msd(trj,np.arange(1,500,1),col_name=[\"x\"],framerate=1/dt)"
   ]
  },
  {
   "cell_type": "code",
   "execution_count": 9,
   "metadata": {},
   "outputs": [
    {
     "data": {
      "text/plain": [
       "[<matplotlib.lines.Line2D at 0x25215becdd8>]"
      ]
     },
     "execution_count": 9,
     "metadata": {},
     "output_type": "execute_result"
    },
    {
     "data": {
      "image/png": "[encoded data removed]",
      "text/plain": [
       "<Figure size 432x288 with 1 Axes>"
      ]
     },
     "metadata": {
      "needs_background": "light"
     },
     "output_type": "display_data"
    }
   ],
   "source": [
    "plt.loglog(msd)\n",
    "plt.loglog(msd.index,2*msd.index*D.magnitude)"
   ]
  },
  {
   "cell_type": "markdown",
   "metadata": {},
   "source": [
    "# Now a trapped particle"
   ]
  },
  {
   "cell_type": "code",
   "execution_count": 22,
   "metadata": {},
   "outputs": [],
   "source": [
    "kbT = 4 * ureg.pN * ureg.nm\n",
    "D = (0.0313 * ureg.um**2/ureg.s)#0.27\n",
    "gm = (kbT/D).to(ureg.pN/ureg.um*ureg.s)\n",
    "k = (22.88*ureg.fN/ureg.nm).to(ureg.pN/ureg.um)#20\n",
    "\n",
    "dt = np.mean(np.diff(t))*ureg.s\n",
    "\n",
    "NoiseFactor = np.sqrt((2*dt*D)).to(ureg.um)\n",
    "ForceFactor = (dt*D/kbT).to(ureg.um/ureg.pN)"
   ]
  },
  {
   "cell_type": "code",
   "execution_count": 23,
   "metadata": {},
   "outputs": [
    {
     "data": {
      "text/html": [
       "7.825078250782508×10<sup>-5</sup> micrometer/piconewton"
      ],
      "text/latex": [
       "$7.825078250782508\\times 10^{-5}\\ \\frac{\\mathrm{micrometer}}{\\mathrm{piconewton}}$"
      ],
      "text/plain": [
       "7.825078250782508e-05 <Unit('micrometer / piconewton')>"
      ]
     },
     "execution_count": 23,
     "metadata": {},
     "output_type": "execute_result"
    }
   ],
   "source": [
    "NoiseFactor\n",
    "ForceFactor"
   ]
  },
  {
   "cell_type": "code",
   "execution_count": 24,
   "metadata": {},
   "outputs": [
    {
     "data": {
      "text/html": [
       "1.000010000100001×10<sup>-5</sup> second"
      ],
      "text/latex": [
       "$1.000010000100001\\times 10^{-5}\\ \\mathrm{second}$"
      ],
      "text/plain": [
       "1.000010000100001e-05 <Unit('second')>"
      ]
     },
     "execution_count": 24,
     "metadata": {},
     "output_type": "execute_result"
    }
   ],
   "source": [
    "dt"
   ]
  },
  {
   "cell_type": "code",
   "execution_count": 25,
   "metadata": {},
   "outputs": [],
   "source": [
    "for i,ti in enumerate(t[1:]):\n",
    "    ForcedTerm = ForceFactor * k*x[i]*ureg.um\n",
    "    x[i+1] = x[i] + NoiseFactor.to(ureg.um).magnitude*np.random.randn() - ForcedTerm.to(ureg.um).magnitude"
   ]
  },
  {
   "cell_type": "code",
   "execution_count": 26,
   "metadata": {},
   "outputs": [
    {
     "data": {
      "text/plain": [
       "[<matplotlib.lines.Line2D at 0x25219216550>]"
      ]
     },
     "execution_count": 26,
     "metadata": {},
     "output_type": "execute_result"
    },
    {
     "data": {
      "image/png": "[encoded data removed]",
      "text/plain": [
       "<Figure size 432x288 with 1 Axes>"
      ]
     },
     "metadata": {
      "needs_background": "light"
     },
     "output_type": "display_data"
    }
   ],
   "source": [
    "plt.plot(t,x)\n",
    "#plt.ylim([-10,10])"
   ]
  },
  {
   "cell_type": "code",
   "execution_count": 27,
   "metadata": {},
   "outputs": [
    {
     "data": {
      "text/plain": [
       "[<matplotlib.lines.Line2D at 0x2521977deb8>]"
      ]
     },
     "execution_count": 27,
     "metadata": {},
     "output_type": "execute_result"
    },
    {
     "data": {
      "image/png": "[encoded data removed]",
      "text/plain": [
       "<Figure size 432x288 with 1 Axes>"
      ]
     },
     "metadata": {
      "needs_background": "light"
     },
     "output_type": "display_data"
    }
   ],
   "source": [
    "trj = pd.DataFrame(data = np.array([x,t]).transpose(), index = t, columns = [\"x\",\"t\"])\n",
    "msd = calculate_msd(trj,np.arange(1,500,1),col_name=[\"x\"],framerate=1/dt)\n",
    "plt.loglog(msd)\n",
    "plt.loglog(msd.index,2*msd.index*D.magnitude)"
   ]
  },
  {
   "cell_type": "markdown",
   "metadata": {},
   "source": [
    "## Force Determination in Fourier Space"
   ]
  },
  {
   "cell_type": "code",
   "execution_count": 28,
   "metadata": {},
   "outputs": [],
   "source": [
    "def PSD(x,dt):\n",
    "    F = np.fft.fft(x)\n",
    "    N = len(x)\n",
    "    PSD = (dt/N) * (F*F.conj())\n",
    "    PSD = abs(PSD).astype(\"float64\")\n",
    "    f = np.linspace(0,1/dt,N) # This was changed\n",
    "    return np.array_split(f,2)[0], np.array_split(PSD,2)[0]"
   ]
  },
  {
   "cell_type": "code",
   "execution_count": 29,
   "metadata": {},
   "outputs": [],
   "source": [
    "def lorentzian(f,A,fc):\n",
    "    return A/(fc**2+f**2)"
   ]
  },
  {
   "cell_type": "code",
   "execution_count": 30,
   "metadata": {},
   "outputs": [
    {
     "data": {
      "text/plain": [
       "Text(0, 0.5, 'PSD [$\\\\mu{}$m$^2$ s]')"
      ]
     },
     "execution_count": 30,
     "metadata": {},
     "output_type": "execute_result"
    },
    {
     "data": {
      "image/png": "[encoded data removed]",
      "text/plain": [
       "<Figure size 432x288 with 1 Axes>"
      ]
     },
     "metadata": {
      "needs_background": "light"
     },
     "output_type": "display_data"
    }
   ],
   "source": [
    "f, psd = PSD(trj.x,dt)\n",
    "\n",
    "fit = spo.curve_fit(lorentzian, f, psd)\n",
    "\n",
    "plt.loglog(f,psd)\n",
    "plt.loglog(f,lorentzian(f,*fit[0]))\n",
    "plt.xlabel(r\"f[Hz]\")\n",
    "plt.ylabel(r\"PSD [$\\mu{}$m$^2$ s]\")"
   ]
  },
  {
   "cell_type": "code",
   "execution_count": 31,
   "metadata": {},
   "outputs": [],
   "source": [
    "A = fit[0][0] * ureg.um**2 / ureg.s\n",
    "fc = fit[0][1] * ureg.Hz"
   ]
  },
  {
   "cell_type": "code",
   "execution_count": 32,
   "metadata": {},
   "outputs": [
    {
     "data": {
      "text/html": [
       "0.16952201398020797 piconewton second/micrometer"
      ],
      "text/latex": [
       "$0.16952201398020797\\ \\frac{\\mathrm{piconewton} \\cdot \\mathrm{second}}{\\mathrm{micrometer}}$"
      ],
      "text/plain": [
       "0.16952201398020797 <Unit('piconewton * second / micrometer')>"
      ]
     },
     "metadata": {},
     "output_type": "display_data"
    },
    {
     "data": {
      "text/html": [
       "0.023595755536900406 micrometer<sup>2</sup>/second"
      ],
      "text/latex": [
       "$0.023595755536900406\\ \\frac{\\mathrm{micrometer}^{2}}{\\mathrm{second}}$"
      ],
      "text/plain": [
       "0.023595755536900406 <Unit('micrometer ** 2 / second')>"
      ]
     },
     "metadata": {},
     "output_type": "display_data"
    }
   ],
   "source": [
    "gm = kbT/(2*np.pi**2*A)\n",
    "display(gm.to(ureg.pN/(ureg.um/ureg.s)))\n",
    "D = kbT/gm\n",
    "display(D)"
   ]
  },
  {
   "cell_type": "code",
   "execution_count": 33,
   "metadata": {},
   "outputs": [
    {
     "data": {
      "text/html": [
       "0.028235771360521914 piconewton/nanometer"
      ],
      "text/latex": [
       "$0.028235771360521914\\ \\frac{\\mathrm{piconewton}}{\\mathrm{nanometer}}$"
      ],
      "text/plain": [
       "0.028235771360521914 <Unit('piconewton / nanometer')>"
      ]
     },
     "execution_count": 33,
     "metadata": {},
     "output_type": "execute_result"
    }
   ],
   "source": [
    "(fc*2*np.pi*gm).to(ureg.pN/ureg.nm)"
   ]
  },
  {
   "cell_type": "code",
   "execution_count": null,
   "metadata": {},
   "outputs": [],
   "source": []
  }
 ],
 "metadata": {
  "kernelspec": {
   "display_name": "Python 3",
   "language": "python",
   "name": "python3"
  },
  "language_info": {
   "codemirror_mode": {
    "name": "ipython",
    "version": 3
   },
   "file_extension": ".py",
   "mimetype": "text/x-python",
   "name": "python",
   "nbconvert_exporter": "python",
   "pygments_lexer": "ipython3",
   "version": "3.7.3"
  }
 },
 "nbformat": 4,
 "nbformat_minor": 2
}
